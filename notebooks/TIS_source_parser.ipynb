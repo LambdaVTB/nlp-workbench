{
 "cells": [
  {
   "cell_type": "code",
   "execution_count": 1,
   "metadata": {},
   "outputs": [
    {
     "name": "stdout",
     "output_type": "stream",
     "text": [
      "Collecting feedparserNote: you may need to restart the kernel to use updated packages.\n",
      "  Downloading feedparser-6.0.10-py3-none-any.whl (81 kB)\n",
      "Collecting sgmllib3k\n",
      "  Downloading sgmllib3k-1.0.0.tar.gz (5.8 kB)\n",
      "Building wheels for collected packages: sgmllib3k\n",
      "  Building wheel for sgmllib3k (setup.py): started\n",
      "  Building wheel for sgmllib3k (setup.py): finished with status 'done'\n",
      "  Created wheel for sgmllib3k: filename=sgmllib3k-1.0.0-py3-none-any.whl size=6066 sha256=a8b7e6dbcef031de83ec78f0e0d35a50577a5218a1f81206d9ed39aacbb85f19\n",
      "  Stored in directory: c:\\users\\user\\appdata\\local\\pip\\cache\\wheels\\65\\7a\\a7\\78c287f64e401255dff4c13fdbc672fed5efbfd21c530114e1\n",
      "Successfully built sgmllib3k\n",
      "Installing collected packages: sgmllib3k, feedparser\n",
      "Successfully installed feedparser-6.0.10 sgmllib3k-1.0.0\n",
      "\n"
     ]
    }
   ],
   "source": [
    "# %pip install feedparser"
   ]
  },
  {
   "cell_type": "code",
   "execution_count": null,
   "metadata": {},
   "outputs": [],
   "source": [
    "# Expansion ideas: мы расширяем наши источники через RSS-ленты, если источник не поддерживает RSS, то можно рассмотреть переходные варианты)"
   ]
  },
  {
   "cell_type": "code",
   "execution_count": 1,
   "metadata": {},
   "outputs": [],
   "source": [
    "import feedparser\n",
    "\n",
    "class RSSParser:\n",
    "    def __init__(self, sources: dict[str,str]):\n",
    "        self.sources = sources\n",
    "\n",
    "    def fetch_entries(self) -> list[dict]:\n",
    "        entries = []\n",
    "        for source, url in self.sources.items():\n",
    "            feed = feedparser.parse(url)\n",
    "            for entry in feed['entries']:\n",
    "                entry['source'] = source\n",
    "                entries.append(entry)\n",
    "        return entries\n",
    "\n",
    "    def standardize_general(self, entry: dict) -> dict:\n",
    "        \"\"\" Turns entry to a standardized format\n",
    "\n",
    "        Args:\n",
    "            entry (dict): entry from feedparser\n",
    "\n",
    "        Returns:\n",
    "            dict: standardized entry in a format:\n",
    "        {\n",
    "            'source': str,\n",
    "            'title': str,\n",
    "            'url':  str,\n",
    "            'date': timestamp with zone,\n",
    "            'tags': list[str],\n",
    "            'text': str,\n",
    "        }\n",
    "        \"\"\"\n",
    "        return {\n",
    "            'source': entry['source'],\n",
    "            'title': entry['title'],\n",
    "            'url':  entry['link'],\n",
    "            'date': entry['published'],\n",
    "            'tags': [tag['term'] for tag in entry['tags']] if 'tags' in entry else [],\n",
    "            # 'text': entry['summary'],\n",
    "        }\n",
    "\n",
    "    def get_last_standardized_news(self) -> list[dict]:\n",
    "        entries = self.fetch_entries()\n",
    "        return [self.standardize_general(entry) for entry in entries]\n",
    "\n",
    "SOURCES = {\n",
    "    # Habr\n",
    "    'habr': 'https://habr.com/ru/rss/all/all/?fl=ru',\n",
    "\n",
    "    # Rubase\n",
    "    ## By companies\n",
    "    'rb_chance': \"https://rb.ru/feeds/tag/chance/\",\n",
    "    # 'rb_vk': \"https://rb.ru/feeds/tag/vk/\",\n",
    "    'rb_rvc': \"https://rb.ru/feeds/tag/rvc/\",\n",
    "    'rb_yandex': \"https://rb.ru/feeds/tag/yandex/\",\n",
    "    'rb_skolkovo': \"https://rb.ru/feeds/tag/skolkovo/\",\n",
    "    # 'rb_facebook': \"https://rb.ru/feeds/tag/facebook/\",\n",
    "    'rb_mailru': \"https://rb.ru/feeds/tag/mailru/\",\n",
    "    # 'rb_microsoft': \"https://rb.ru/feeds/tag/microsoft/\",\n",
    "\n",
    "    ## By topics\n",
    "    'rb_advertising': \"https://rb.ru/feeds/tag/advertising/\",\n",
    "    'rb_robotics': \"https://rb.ru/feeds/tag/robotics/\",\n",
    "    'rb_it': \"https://rb.ru/feeds/tag/it/\",\n",
    "    'rb_bigdata': \"https://rb.ru/feeds/tag/bigdata/\",\n",
    "    'rb_china': \"https://rb.ru/feeds/tag/china/\",\n",
    "    'rb_finance': \"https://rb.ru/feeds/tag/fintech/\",\n",
    "    'rb_cloud': \"https://rb.ru/feeds/tag/cloud/\",\n",
    "\n",
    "    # Vedomosti\n",
    "    'vd_business': \"https://www.vedomosti.ru/rss/rubric/business\",\n",
    "    'vd_it_business': \"https://www.vedomosti.ru/rss/rubric/it_business\",\n",
    "    'vd_finance': \"https://www.vedomosti.ru/rss/rubric/finance\",\n",
    "    'vd_opinion': \"https://www.vedomosti.ru/rss/rubric/opinion\",\n",
    "    'vd_analytics': \"https://www.vedomosti.ru/rss/rubric/opinion/analytics\",\n",
    "\n",
    "\n",
    "    # RT\n",
    "    'rt': \"https://russian.rt.com/rss/\",\n",
    "}\n",
    "\n",
    "entries = RSSParser(SOURCES).get_last_standardized_news()\n"
   ]
  },
  {
   "cell_type": "code",
   "execution_count": 74,
   "metadata": {},
   "outputs": [
    {
     "name": "stdout",
     "output_type": "stream",
     "text": [
      "1110\n"
     ]
    }
   ],
   "source": [
    "print(len(entries))\n"
   ]
  },
  {
   "cell_type": "code",
   "execution_count": 75,
   "metadata": {},
   "outputs": [],
   "source": [
    "import feedparser\n",
    "def test_get_sample_entry_from_rss(url: str):\n",
    "    feed = feedparser.parse(url)\n",
    "    return feed['entries'][0]"
   ]
  },
  {
   "cell_type": "code",
   "execution_count": 76,
   "metadata": {},
   "outputs": [
    {
     "data": {
      "text/plain": [
       "{'title': 'Личный сервер shadowsocks за 10 минут без затрат (часть 3)',\n",
       " 'title_detail': {'type': 'text/plain',\n",
       "  'language': None,\n",
       "  'base': 'https://habr.com/ru/rss/all/all/?fl=ru',\n",
       "  'value': 'Личный сервер shadowsocks за 10 минут без затрат (часть 3)'},\n",
       " 'id': 'https://habr.com/ru/post/692172/',\n",
       " 'guidislink': True,\n",
       " 'link': 'https://habr.com/ru/post/692172/?utm_source=habrahabr&utm_medium=rss&utm_campaign=692172',\n",
       " 'links': [{'rel': 'alternate',\n",
       "   'type': 'text/html',\n",
       "   'href': 'https://habr.com/ru/post/692172/?utm_source=habrahabr&utm_medium=rss&utm_campaign=692172'}],\n",
       " 'summary': '<p>Это - отдельное руководство, описывающее ещё один способ получить личный<br /> прокси-сервер shadowsocks бесплатно и служащее продолжением к моей <a href=\"https://habr.com/ru/post/556464/\" rel=\"noopener noreferrer nofollow\">предыдущей статье</a>. В этот раз мы воспользуемся сервисом <a href=\"https://replit.com/\" rel=\"noopener noreferrer nofollow\">Replit</a>.</p><p>В этот раз всё будет намного проще: регистрация, импорт, запуск. Три шага.</p> <a href=\"https://habr.com/ru/post/692172/?utm_source=habrahabr&amp;utm_medium=rss&amp;utm_campaign=692172#habracut\">Читать далее</a>',\n",
       " 'summary_detail': {'type': 'text/html',\n",
       "  'language': None,\n",
       "  'base': 'https://habr.com/ru/rss/all/all/?fl=ru',\n",
       "  'value': '<p>Это - отдельное руководство, описывающее ещё один способ получить личный<br /> прокси-сервер shadowsocks бесплатно и служащее продолжением к моей <a href=\"https://habr.com/ru/post/556464/\" rel=\"noopener noreferrer nofollow\">предыдущей статье</a>. В этот раз мы воспользуемся сервисом <a href=\"https://replit.com/\" rel=\"noopener noreferrer nofollow\">Replit</a>.</p><p>В этот раз всё будет намного проще: регистрация, импорт, запуск. Три шага.</p> <a href=\"https://habr.com/ru/post/692172/?utm_source=habrahabr&amp;utm_medium=rss&amp;utm_campaign=692172#habracut\">Читать далее</a>'},\n",
       " 'published': 'Fri, 07 Oct 2022 22:33:41 GMT',\n",
       " 'published_parsed': time.struct_time(tm_year=2022, tm_mon=10, tm_mday=7, tm_hour=22, tm_min=33, tm_sec=41, tm_wday=4, tm_yday=280, tm_isdst=0),\n",
       " 'authors': [{'name': 'YourChief'}],\n",
       " 'author': 'YourChief',\n",
       " 'author_detail': {'name': 'YourChief'},\n",
       " 'tags': [{'term': 'Информационная безопасность',\n",
       "   'scheme': None,\n",
       "   'label': None},\n",
       "  {'term': 'Сетевые технологии', 'scheme': None, 'label': None},\n",
       "  {'term': 'Браузеры', 'scheme': None, 'label': None},\n",
       "  {'term': 'Облачные сервисы', 'scheme': None, 'label': None},\n",
       "  {'term': 'Софт', 'scheme': None, 'label': None},\n",
       "  {'term': 'shadowsocks', 'scheme': None, 'label': None},\n",
       "  {'term': 'replit', 'scheme': None, 'label': None},\n",
       "  {'term': 'прокси', 'scheme': None, 'label': None},\n",
       "  {'term': 'proxy', 'scheme': None, 'label': None},\n",
       "  {'term': 'free', 'scheme': None, 'label': None},\n",
       "  {'term': 'бесплатно', 'scheme': None, 'label': None},\n",
       "  {'term': 'без смс', 'scheme': None, 'label': None},\n",
       "  {'term': 'vpn', 'scheme': None, 'label': None},\n",
       "  {'term': 'vpn-сервер', 'scheme': None, 'label': None}]}"
      ]
     },
     "execution_count": 76,
     "metadata": {},
     "output_type": "execute_result"
    }
   ],
   "source": [
    "# test habr\n",
    "test_get_sample_entry_from_rss(SOURCES['habr'])"
   ]
  },
  {
   "cell_type": "code",
   "execution_count": 77,
   "metadata": {},
   "outputs": [
    {
     "data": {
      "text/plain": [
       "{'title': 'Бизнес-инкубатор ВШЭ открывает прием заявок на HSE Startup Cup 2022',\n",
       " 'title_detail': {'type': 'text/plain',\n",
       "  'language': None,\n",
       "  'base': 'https://rb.ru/feeds/tag/chance/',\n",
       "  'value': 'Бизнес-инкубатор ВШЭ открывает прием заявок на HSE Startup Cup 2022'},\n",
       " 'links': [{'rel': 'alternate',\n",
       "   'type': 'text/html',\n",
       "   'href': 'https://rb.ru/partners/hse-startup-cup-2022/'},\n",
       "  {'length': '10207104',\n",
       "   'type': 'image/jpeg',\n",
       "   'href': 'https://media.rbcdn.ru/media/news/annie-spratt-dwyu3i-mqeo-unsplash_ToEApDf.jpg',\n",
       "   'rel': 'enclosure'}],\n",
       " 'link': 'https://rb.ru/partners/hse-startup-cup-2022/',\n",
       " 'summary': 'HSE Startup Cup — это масштабный конкурс стартапов для студентов, аспирантов, преподавателей и сотрудников университета ВШЭ. Его участники получат помощь в запуске проекта и финансирование. Подать заявку можно до 15 октября.',\n",
       " 'summary_detail': {'type': 'text/html',\n",
       "  'language': None,\n",
       "  'base': 'https://rb.ru/feeds/tag/chance/',\n",
       "  'value': 'HSE Startup Cup — это масштабный конкурс стартапов для студентов, аспирантов, преподавателей и сотрудников университета ВШЭ. Его участники получат помощь в запуске проекта и финансирование. Подать заявку можно до 15 октября.'},\n",
       " 'published': 'Thu, 06 Oct 2022 09:52:13 +0300',\n",
       " 'published_parsed': time.struct_time(tm_year=2022, tm_mon=10, tm_mday=6, tm_hour=6, tm_min=52, tm_sec=13, tm_wday=3, tm_yday=279, tm_isdst=0),\n",
       " 'id': 'https://rb.ru/partners/hse-startup-cup-2022/',\n",
       " 'guidislink': False}"
      ]
     },
     "execution_count": 77,
     "metadata": {},
     "output_type": "execute_result"
    }
   ],
   "source": [
    "#test any of rb_*\n",
    "test_get_sample_entry_from_rss(SOURCES['rb_chance'])"
   ]
  },
  {
   "cell_type": "code",
   "execution_count": 78,
   "metadata": {},
   "outputs": [
    {
     "data": {
      "text/plain": [
       "{'title': 'Путин поручил создать российского оператора проекта «Сахалин-1»',\n",
       " 'title_detail': {'type': 'text/plain',\n",
       "  'language': None,\n",
       "  'base': 'https://www.vedomosti.ru/rss/rubric/business',\n",
       "  'value': 'Путин поручил создать российского оператора проекта «Сахалин-1»'},\n",
       " 'links': [{'rel': 'alternate',\n",
       "   'type': 'text/html',\n",
       "   'href': 'https://www.vedomosti.ru/business/news/2022/10/07/944476-putin-poruchil-sozdat-operatora'},\n",
       "  {'type': 'image/jpeg',\n",
       "   'href': 'https://cdn.vdmsti.ru/image/2022/7s/19ubht/normal-1net.jpg',\n",
       "   'rel': 'enclosure'}],\n",
       " 'link': 'https://www.vedomosti.ru/business/news/2022/10/07/944476-putin-poruchil-sozdat-operatora',\n",
       " 'id': 'https://www.vedomosti.ru/business/news/2022/10/07/944476-putin-poruchil-sozdat-operatora',\n",
       " 'guidislink': False,\n",
       " 'pdalink': 'https://www.vedomosti.ru/business/news/2022/10/07/944476-putin-poruchil-sozdat-operatora',\n",
       " 'authors': [{}],\n",
       " 'author': '',\n",
       " 'tags': [{'term': 'Бизнес', 'scheme': None, 'label': None}],\n",
       " 'published': 'Fri, 07 Oct 2022 21:37:04 +0300',\n",
       " 'published_parsed': time.struct_time(tm_year=2022, tm_mon=10, tm_mday=7, tm_hour=18, tm_min=37, tm_sec=4, tm_wday=4, tm_yday=280, tm_isdst=0)}"
      ]
     },
     "execution_count": 78,
     "metadata": {},
     "output_type": "execute_result"
    }
   ],
   "source": [
    "# Test VEDOMOSTI\n",
    "test_get_sample_entry_from_rss(SOURCES['vd_business'])\n",
    "\n"
   ]
  },
  {
   "cell_type": "code",
   "execution_count": 79,
   "metadata": {},
   "outputs": [
    {
     "data": {
      "text/plain": [
       "{'title': 'Ферстаппен выиграл третью свободную практику Гран-при Японии',\n",
       " 'title_detail': {'type': 'text/plain',\n",
       "  'language': None,\n",
       "  'base': 'https://russian.rt.com/rss',\n",
       "  'value': 'Ферстаппен выиграл третью свободную практику Гран-при Японии'},\n",
       " 'links': [{'rel': 'alternate',\n",
       "   'type': 'text/html',\n",
       "   'href': 'https://russian.rt.com/sport/news/1058509-ferstappen-luchshii-rezultat?utm_source=rss&utm_medium=rss&utm_campaign=RSS'}],\n",
       " 'link': 'https://russian.rt.com/sport/news/1058509-ferstappen-luchshii-rezultat?utm_source=rss&utm_medium=rss&utm_campaign=RSS',\n",
       " 'id': 'https://russian.rt.com/sport/news/1058509-ferstappen-luchshii-rezultat?utm_source=rss&utm_medium=rss&utm_campaign=RSS',\n",
       " 'guidislink': False,\n",
       " 'summary': 'Пилот Red Bull Макс Ферстаппен показал лучшее время на третьей тренировке Гран-при Японии «Формулы-1». <br /><a href=\"https://russian.rt.com/sport/news/1058509-ferstappen-luchshii-rezultat?utm_source=rss&amp;utm_medium=rss&amp;utm_campaign=RSS\">Читать далее</a>',\n",
       " 'summary_detail': {'type': 'text/html',\n",
       "  'language': None,\n",
       "  'base': 'https://russian.rt.com/rss',\n",
       "  'value': 'Пилот Red Bull Макс Ферстаппен показал лучшее время на третьей тренировке Гран-при Японии «Формулы-1». <br /><a href=\"https://russian.rt.com/sport/news/1058509-ferstappen-luchshii-rezultat?utm_source=rss&amp;utm_medium=rss&amp;utm_campaign=RSS\">Читать далее</a>'},\n",
       " 'published': 'Sat, 08 Oct 2022 07:40:57 +0300',\n",
       " 'published_parsed': time.struct_time(tm_year=2022, tm_mon=10, tm_mday=8, tm_hour=4, tm_min=40, tm_sec=57, tm_wday=5, tm_yday=281, tm_isdst=0),\n",
       " 'authors': [{'name': 'RT на русском'}],\n",
       " 'author': 'RT на русском',\n",
       " 'author_detail': {'name': 'RT на русском'}}"
      ]
     },
     "execution_count": 79,
     "metadata": {},
     "output_type": "execute_result"
    }
   ],
   "source": [
    "# Test rt\n",
    "test_get_sample_entry_from_rss(SOURCES['rt'])"
   ]
  },
  {
   "cell_type": "code",
   "execution_count": null,
   "metadata": {},
   "outputs": [],
   "source": [
    "#title, date, url, text, tags\n"
   ]
  },
  {
   "cell_type": "code",
   "execution_count": 29,
   "metadata": {},
   "outputs": [
    {
     "name": "stdout",
     "output_type": "stream",
     "text": [
      "Total news: 410\n",
      "Unique tags:\n",
      "dict_keys(['Политика', 'Общество', 'Финансы', 'Экономика', 'Маркетинг', 'PR', 'HR', 'Криптовалюты', 'Учет и налогообложение', 'Компании', 'Рынки', 'Бизнес', 'Технологии', 'Автоматизация', 'Мобилизация', 'Медиа', 'Бухгалтеру', 'Работодателю', 'Вебинары для бухгалтеров', 'Банкротство', 'Кредитование', 'Инвестиции', 'Банки', 'Санкции 2022', 'Трудовое право', 'Общее', 'Карьера', 'Авто', 'Политика / Армия и спецслужбы', 'Интернет и IT', 'Экономика России', 'IT-компании', 'Электронные трудовые книжки', 'ЕГАИС', 'Налоги, взносы, пошлины', 'ЭДО', 'НДФЛ', 'АУСН', 'Перевозка', 'Отчетность в ПФР', 'Мошенничество', 'Первичные документы', 'Экономические преступления', 'ПСН', 'Онлайн-кассы'])\n"
     ]
    },
    {
     "data": {
      "image/png": "[encoded data removed]",
      "text/plain": [
       "<Figure size 1440x360 with 1 Axes>"
      ]
     },
     "metadata": {
      "needs_background": "light"
     },
     "output_type": "display_data"
    }
   ],
   "source": [
    "import feedparser\n",
    "\n",
    "# SOURCES = {\n",
    "#     # Habr\n",
    "#     # 'habr': 'https://habr.com/ru/rss/all/all/?fl=ru',\n",
    "\n",
    "#     # Rubase\n",
    "#     ## By companies\n",
    "#     # 'rb_chance': \"https://rb.ru/feeds/tag/chance/\",\n",
    "#     # 'rb_vk': \"https://rb.ru/feeds/tag/vk/\",\n",
    "#     'rb_rvc': \"https://rb.ru/feeds/tag/rvc/\",\n",
    "#     # 'rb_yandex': \"https://rb.ru/feeds/tag/yandex/\",\n",
    "#     'rb_skolkovo': \"https://rb.ru/feeds/tag/skolkovo/\",\n",
    "#     # 'rb_facebook': \"https://rb.ru/feeds/tag/facebook/\",\n",
    "#     'rb_mailru': \"https://rb.ru/feeds/tag/mailru/\",\n",
    "#     # 'rb_microsoft': \"https://rb.ru/feeds/tag/microsoft/\",\n",
    "\n",
    "#     ## By topics\n",
    "#     'rb_advertising': \"https://rb.ru/feeds/tag/advertising/\",\n",
    "#     # 'rb_robotics': \"https://rb.ru/feeds/tag/robotics/\",\n",
    "#     # 'rb_it': \"https://rb.ru/feeds/tag/it/\",\n",
    "#     # 'rb_bigdata': \"https://rb.ru/feeds/tag/bigdata/\",\n",
    "#     'rb_china': \"https://rb.ru/feeds/tag/china/\",\n",
    "#     'rb_finance': \"https://rb.ru/feeds/tag/fintech/\",\n",
    "#     # 'rb_cloud': \"https://rb.ru/feeds/tag/cloud/\",\n",
    "\n",
    "#     # Vedomosti\n",
    "#     # 'vd_business': \"https://www.vedomosti.ru/rss/rubric/business\",\n",
    "#     # 'vd_it_business': \"https://www.vedomosti.ru/rss/rubric/it_business\",\n",
    "#     # 'vd_finance': \"https://www.vedomosti.ru/rss/rubric/finance\",\n",
    "#     # 'vd_opinion': \"https://www.vedomosti.ru/rss/rubric/opinion\",\n",
    "#     # 'vd_analytics': \"https://www.vedomosti.ru/rss/rubric/opinion/analytics\",\n",
    "\n",
    "\n",
    "#     # RT\n",
    "#     # 'rt': \"https://russian.rt.com/rss/\",\n",
    "# }\n",
    "\n",
    "\n",
    "SOURCES = {\n",
    "    # \"rt\": \"https://russian.rt.com/rss\",\n",
    "    \"vd\": \"https://www.vedomosti.ru/rss/news\",\n",
    "\n",
    "    # for buhgalter\n",
    "    \"buh\": \"https://buh.ru/rss/?chanel=news\",\n",
    "    \"klerk\": \"https://www.klerk.ru/export/news.rss\",\n",
    "    \"audit-it\": \"http://www.audit-it.ru/rss/news_all.xml\",\n",
    "    # \"rb\": \"https://rb.ru/feeds/all/\",\n",
    "\n",
    "    # for business owner\n",
    "    # \"rb\": \"https://rb.ru/feeds/all/\",\n",
    "    \"rb_pr\": \"https://rb.ru/feeds/tag/pr/\",\n",
    "    \"rb_finance\": \"https://rb.ru/feeds/tag/fintech/\",\n",
    "    \"rb_hr\": \"https://rb.ru/feeds/tag/hr/\",\n",
    "    \"rb_crypto\": \"https://rb.ru/feeds/tag/crypto/\",\n",
    "    \"rb_marketing\": \"https://rb.ru/feeds/tag/marketing/\",\n",
    "    \"rmblr_finance\": \"https://finance.rambler.ru/rss/economics/\",\n",
    "    \"rmblr_business\": \"https://finance.rambler.ru/rss/business/\",\n",
    "    \"rmblr_markets\": \"https://finance.rambler.ru/rss/markets/\",\n",
    "}\n",
    "\n",
    "rb_topics = {\n",
    "    \"rb_pr\":\"PR\",\n",
    "    \"rb_finance\":\"Финансы\",\n",
    "    \"rb_hr\":\"HR\",\n",
    "    \"rb_crypto\":\"Криптовалюты\",\n",
    "    \"rb_marketing\":\"Маркетинг\",\n",
    "}\n",
    "\n",
    "class RSSParser:\n",
    "    def __init__(self, sources: dict[str,str]):\n",
    "        self.sources = sources\n",
    "\n",
    "    def fetch_entries(self) -> list[dict]:\n",
    "        entries = []\n",
    "        for source, url in self.sources.items():\n",
    "            feed = feedparser.parse(url)\n",
    "            # If there is no tags for entries, skip source and print warning\n",
    "            if not feed['entries'][0].get('tags') and source not in rb_topics:\n",
    "                print(f\"Warning: No tags for source {source}\")\n",
    "                continue\n",
    "\n",
    "            for entry in feed['entries']:\n",
    "                entry['source'] = source\n",
    "                entries.append(entry)\n",
    "        return entries\n",
    "\n",
    "    def standardize_general(self, entry: dict) -> dict:\n",
    "        \"\"\" Turns entry to a standardized format\n",
    "\n",
    "        Args:\n",
    "            entry (dict): entry from feedparser\n",
    "\n",
    "        Returns:\n",
    "            dict: standardized entry in a format:\n",
    "        {\n",
    "            'source': str,\n",
    "            'title': str,\n",
    "            'url':  str,\n",
    "            'date': timestamp with zone,\n",
    "            'tags': list[str],\n",
    "            'text': str,\n",
    "        }\n",
    "        \"\"\"\n",
    "        entry =  {\n",
    "            'source': entry['source'],\n",
    "            'title': entry['title'].replace('\\n', ' ').replace('\\r', ' ').replace('\\t', ' ').strip(),\n",
    "            'url':  entry['link'],\n",
    "            'date': entry['published_parsed'],\n",
    "            'tags': [tag['term'] for tag in entry['tags']] if 'tags' in entry else [rb_topics[entry['source']]] if entry['source'] in rb_topics else [],\n",
    "            'text': entry['summary'] if 'summary' in entry else '',\n",
    "        }\n",
    "        # pprint(entry)\n",
    "\n",
    "        return entry\n",
    "\n",
    "    def get_last_standardized_news(self) -> list[dict]:\n",
    "        entries = self.fetch_entries()\n",
    "        return [self.standardize_general(entry) for entry in entries]\n",
    "\n",
    "\n",
    "if __name__ == '__main__':\n",
    "    parser = RSSParser(SOURCES)\n",
    "    from pprint import pprint\n",
    "    news = parser.get_last_standardized_news()\n",
    "\n",
    "    # Count every tag occurence\n",
    "    tags = {}\n",
    "    for entry in news:\n",
    "        for tag in entry['tags']:\n",
    "            if tag not in tags:\n",
    "                tags[tag] = 0\n",
    "            tags[tag] += 1\n",
    "\n",
    "    # Plot tag distribution\n",
    "    import matplotlib.pyplot as plt\n",
    "    # Sort by value\n",
    "    # Set plot size\n",
    "    plt.rcParams[\"figure.figsize\"] = (20,5)\n",
    "    tags = {k: v for k, v in sorted(tags.items(), key=lambda item: item[1], reverse=True)}\n",
    "    plt.bar(tags.keys(), tags.values())\n",
    "\n",
    "\n",
    "    print(f\"Total news: {len(news)}\")\n",
    "\n",
    "    # Print unique tags\n",
    "    print(\"Unique tags:\")\n",
    "    print(tags.keys())\n",
    "\n",
    "    plt.xticks(rotation=90)\n",
    "    plt.show()\n",
    "\n",
    "\n"
   ]
  },
  {
   "cell_type": "code",
   "execution_count": null,
   "metadata": {},
   "outputs": [],
   "source": [
    "# list for gendir\n",
    "gen_list =  ['Финансы', 'Экономика', 'Маркетинг', 'PR', 'HR',  'Компании', 'Рынки', 'Бизнес', 'Технологии', 'Автоматизация', 'Мобилизация',  'Работодателю', 'Кредитование', 'Инвестиции', 'Санкции 2022',  'Общее', 'Карьера',  'Экономика России', 'IT-компании',  'Налоги, взносы, пошлины',  'Мошенничество', 'Экономические преступления']\n",
    "\n",
    "\n",
    "# list for buhgalter\n",
    "buh_list = ['Финансы', 'Экономика',  'Криптовалюты', 'Учет и налогообложение', 'Бизнес', 'Бухгалтеру',  'Вебинары для бухгалтеров', 'Банкротство', 'Кредитование', 'Банки',  'Трудовое право', 'Экономика России',  'Электронные трудовые книжки', 'ЕГАИС', 'Налоги, взносы, пошлины', 'ЭДО', 'НДФЛ', 'АУСН', 'Перевозка', 'Отчетность в ПФР', 'Мошенничество', 'Первичные документы', 'Экономические преступления', 'ПСН', 'Онлайн-кассы']"
   ]
  }
 ],
 "metadata": {
  "kernelspec": {
   "display_name": "Python 3.9.12 ('base')",
   "language": "python",
   "name": "python3"
  },
  "language_info": {
   "codemirror_mode": {
    "name": "ipython",
    "version": 3
   },
   "file_extension": ".py",
   "mimetype": "text/x-python",
   "name": "python",
   "nbconvert_exporter": "python",
   "pygments_lexer": "ipython3",
   "version": "3.9.12"
  },
  "orig_nbformat": 4,
  "vscode": {
   "interpreter": {
    "hash": "ad2bdc8ecc057115af97d19610ffacc2b4e99fae6737bb82f5d7fb13d2f2c186"
   }
  }
 },
 "nbformat": 4,
 "nbformat_minor": 2
}

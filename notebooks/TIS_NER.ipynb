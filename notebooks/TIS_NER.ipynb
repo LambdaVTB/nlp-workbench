{
 "cells": [
  {
   "cell_type": "code",
   "execution_count": 15,
   "metadata": {},
   "outputs": [
    {
     "name": "stdout",
     "output_type": "stream",
     "text": [
      "INFO: Pandarallel will run on 10 workers.\n",
      "INFO: Pandarallel will use standard multiprocessing data transfer (pipe) to transfer data between the main process and workers.\n",
      "\n",
      "WARNING: You are on Windows. If you detect any issue with pandarallel, be sure you checked out the Troubleshooting page:\n",
      "https://nalepae.github.io/pandarallel/troubleshooting/\n"
     ]
    }
   ],
   "source": [
    "# NER test\n",
    "import pandas as pd\n",
    "from navec import Navec\n",
    "from slovnet import NER\n",
    "from ipymarkup import show_span_ascii_markup as show_markup\n",
    "from pandarallel import pandarallel\n",
    "pandarallel.initialize(progress_bar=True)\n",
    "\n",
    "\n"
   ]
  },
  {
   "cell_type": "code",
   "execution_count": 16,
   "metadata": {},
   "outputs": [
    {
     "name": "stdout",
     "output_type": "stream",
     "text": [
      "Генеральный директор Первого канала Константин Эрнст рассказал о том, как осуществляется контроль за контентом на российском телевидении. Комментарий медиаменеджера опубликован в журнале New Yorker. «Никто никогда не говорит вам: \"Не показывайте Навального (Алексей Навальный, блогер — прим. «Ленты.ру»), не используйте его имя\". Такие поручения не передаются словами», — так Эрнст ответил на вопрос о том, есть ли цензура на телевидении. Он добавил, что федеральными каналами руководят неглупые люди. Телеведущая Юлия Панкратова, работавшая на Первом канале с 2006 по 2013 год, подтвердила, что в большинстве случаев сотрудникам не поступало прямых указаний от руководства по поводу контента. В беседе с журналистом New Yorker она призналась, что от нее чаще ожидали интуитивного понимания правил. Константин Эрнст возглавляет Первый канал с 1999 года. Он начал карьеру на телевидении в 1988 году в программе «Взгляд», затем стал автором и ведущим программы «Матадор». С 6 октября 1999 года журналист является генеральным директором ОРТ (с 2002 года компания называется «Первый канал»). Ранее комик и телеведущий Максим Галкин заявил о цензуре на российском телевидении. Он заметил, что раньше на российских телеканалах было больше политического юмора, однако сегодня «не все можно говорить».\n"
     ]
    }
   ],
   "source": [
    "df_tail = pd.read_csv('S:\\Workspace\\MORETECH\\nlp-workbench\\lenta-news-sample-1000.csv', index_col=0)\n",
    "text = df_tail['text'].iloc[0]\n",
    "print(text)"
   ]
  },
  {
   "cell_type": "code",
   "execution_count": 17,
   "metadata": {},
   "outputs": [
    {
     "name": "stdout",
     "output_type": "stream",
     "text": [
      "Генеральный директор Первого канала Константин Эрнст рассказал о том, \n",
      "                     ORG─────────── PER─────────────                  \n",
      "как осуществляется контроль за контентом на российском телевидении. \n",
      "Комментарий медиаменеджера опубликован в журнале New Yorker. «Никто \n",
      "                                                 ORG───────         \n",
      "никогда не говорит вам: \"Не показывайте Навального (Алексей Навальный,\n",
      "                                        PER───────  PER────────────── \n",
      " блогер — прим. «Ленты.ру»), не используйте его имя\". Такие поручения \n",
      "                 ORG─────                                             \n",
      "не передаются словами», — так Эрнст ответил на вопрос о том, есть ли \n",
      "                              PER──                                  \n",
      "цензура на телевидении. Он добавил, что федеральными каналами \n",
      "руководят неглупые люди. Телеведущая Юлия Панкратова, работавшая на \n",
      "                                     PER────────────                \n",
      "Первом канале с 2006 по 2013 год, подтвердила, что в большинстве \n",
      "ORG──────────                                                    \n",
      "случаев сотрудникам не поступало прямых указаний от руководства по \n",
      "поводу контента. В беседе с журналистом New Yorker она призналась, что\n",
      "                                        ORG───────                    \n",
      " от нее чаще ожидали интуитивного понимания правил. Константин Эрнст \n",
      "                                                    PER───────────── \n",
      "возглавляет Первый канал с 1999 года. Он начал карьеру на телевидении \n",
      "            ORG─────────                                              \n",
      "в 1988 году в программе «Взгляд», затем стал автором и ведущим \n",
      "                         ORG───                                \n",
      "программы «Матадор». С 6 октября 1999 года журналист является \n",
      "           ORG────                                            \n",
      "генеральным директором ОРТ (с 2002 года компания называется «Первый \n",
      "                       ORG                                   ORG────\n",
      "канал»). Ранее комик и телеведущий Максим Галкин заявил о цензуре на \n",
      "─────                              PER──────────                     \n",
      "российском телевидении. Он заметил, что раньше на российских \n",
      "телеканалах было больше политического юмора, однако сегодня «не все \n",
      "можно говорить».\n"
     ]
    }
   ],
   "source": [
    "# Usage example\n",
    "\n",
    "navec = Navec.load(r'S:\\Workspace\\MORETECH\\nlp-workbench\\models\\navec_news_v1_1B_250K_300d_100q.tar')\n",
    "ner = NER.load(r'S:\\Workspace\\MORETECH\\nlp-workbench\\models\\slovnet_ner_news_v1.tar')\n",
    "_ = ner.navec(navec)\n",
    "\n",
    "markup = ner(text)\n",
    "show_markup(markup.text, markup.spans)"
   ]
  },
  {
   "cell_type": "code",
   "execution_count": 18,
   "metadata": {},
   "outputs": [
    {
     "name": "stdout",
     "output_type": "stream",
     "text": [
      "{'LOCs': [],\n",
      " 'ORGs': ['Первого канала',\n",
      "          'New Yorker',\n",
      "          'Ленты.ру',\n",
      "          'Первом канале',\n",
      "          'New Yorker',\n",
      "          'Первый канал',\n",
      "          'Взгляд',\n",
      "          'Матадор',\n",
      "          'ОРТ',\n",
      "          'Первый канал'],\n",
      " 'PERs': ['Константин Эрнст',\n",
      "          'Навального',\n",
      "          'Алексей Навальный',\n",
      "          'Эрнст',\n",
      "          'Юлия Панкратова',\n",
      "          'Константин Эрнст',\n",
      "          'Максим Галкин']}\n"
     ]
    }
   ],
   "source": [
    "# Example for production\n",
    "\n",
    "navec = Navec.load(r'S:\\Workspace\\MORETECH\\nlp-workbench\\models\\navec_news_v1_1B_250K_300d_100q.tar')\n",
    "ner = NER.load(r'S:\\Workspace\\MORETECH\\nlp-workbench\\models\\slovnet_ner_news_v1.tar')\n",
    "_ = ner.navec(navec)\n",
    "\n",
    "def get_ners_dict(text: str, ner_model) -> dict:\n",
    "    markup = ner_model(text)\n",
    "    ORGS, PERS, LOCS = [], [], []\n",
    "    for span in markup.spans:\n",
    "        span_text = markup.text[span.start:span.stop]\n",
    "        if span.type == 'ORG':\n",
    "            ORGS.append(span_text)\n",
    "        elif span.type == 'PER':\n",
    "            PERS.append(span_text)\n",
    "        elif span.type == 'LOC':\n",
    "            LOCS.append(span_text)\n",
    "\n",
    "        # print(span.type, span_text)\n",
    "\n",
    "    return {'ORGs': ORGS, 'PERs': PERS, 'LOCs': LOCS}\n",
    "\n",
    "\n",
    "\n",
    "from pprint import pprint\n",
    "ner_dict = get_ners_dict(text, ner)\n",
    "pprint(ner_dict)\n",
    "\n"
   ]
  },
  {
   "cell_type": "code",
   "execution_count": 19,
   "metadata": {},
   "outputs": [
    {
     "data": {
      "application/vnd.jupyter.widget-view+json": {
       "model_id": "6b905f5a6d6343ed94d9d4e0d4796132",
       "version_major": 2,
       "version_minor": 0
      },
      "text/plain": [
       "VBox(children=(HBox(children=(IntProgress(value=0, description='0.00%'), Label(value='0 / 100'))), HBox(childr…"
      ]
     },
     "metadata": {},
     "output_type": "display_data"
    },
    {
     "data": {
      "text/html": [
       "<div>\n",
       "<style scoped>\n",
       "    .dataframe tbody tr th:only-of-type {\n",
       "        vertical-align: middle;\n",
       "    }\n",
       "\n",
       "    .dataframe tbody tr th {\n",
       "        vertical-align: top;\n",
       "    }\n",
       "\n",
       "    .dataframe thead th {\n",
       "        text-align: right;\n",
       "    }\n",
       "</style>\n",
       "<table border=\"1\" class=\"dataframe\">\n",
       "  <thead>\n",
       "    <tr style=\"text-align: right;\">\n",
       "      <th></th>\n",
       "      <th>title</th>\n",
       "      <th>text</th>\n",
       "      <th>topic</th>\n",
       "      <th>tags</th>\n",
       "      <th>date</th>\n",
       "      <th>source</th>\n",
       "      <th>entities</th>\n",
       "    </tr>\n",
       "    <tr>\n",
       "      <th>url</th>\n",
       "      <th></th>\n",
       "      <th></th>\n",
       "      <th></th>\n",
       "      <th></th>\n",
       "      <th></th>\n",
       "      <th></th>\n",
       "      <th></th>\n",
       "    </tr>\n",
       "  </thead>\n",
       "  <tbody>\n",
       "    <tr>\n",
       "      <th>https://lenta.ru/news/2019/12/10/ernst/</th>\n",
       "      <td>Эрнст рассказал о цензуре на российском телеви...</td>\n",
       "      <td>Генеральный директор Первого канала Константин...</td>\n",
       "      <td>NaN</td>\n",
       "      <td>ТВ и радио</td>\n",
       "      <td>2019/12/10</td>\n",
       "      <td>lenta</td>\n",
       "      <td>[Span(start=21, stop=35, type='ORG'), Span(sta...</td>\n",
       "    </tr>\n",
       "    <tr>\n",
       "      <th>https://lenta.ru/news/2019/12/10/saudi/</th>\n",
       "      <td>Крупнейшая сделка в истории поменяла цель</td>\n",
       "      <td>Власти Саудовской Аравии с помощью первичного ...</td>\n",
       "      <td>NaN</td>\n",
       "      <td>Рынки</td>\n",
       "      <td>2019/12/10</td>\n",
       "      <td>lenta</td>\n",
       "      <td>[Span(start=7, stop=24, type='LOC'), Span(star...</td>\n",
       "    </tr>\n",
       "    <tr>\n",
       "      <th>https://lenta.ru/news/2019/12/10/ponomarev/</th>\n",
       "      <td>Путин рассказал о тайной связи правозащитника ...</td>\n",
       "      <td>Лидер ликвидированного правозащитного движения...</td>\n",
       "      <td>NaN</td>\n",
       "      <td>Политика</td>\n",
       "      <td>2019/12/10</td>\n",
       "      <td>lenta</td>\n",
       "      <td>[Span(start=48, stop=65, type='ORG'), Span(sta...</td>\n",
       "    </tr>\n",
       "    <tr>\n",
       "      <th>https://lenta.ru/news/2019/12/10/hailsatan/</th>\n",
       "      <td>Стюардессы оскорбились внешним видом пассажирк...</td>\n",
       "      <td>Пассажирка авиакомпании American Airlines пожа...</td>\n",
       "      <td>NaN</td>\n",
       "      <td>Происшествия</td>\n",
       "      <td>2019/12/10</td>\n",
       "      <td>lenta</td>\n",
       "      <td>[Span(start=24, stop=41, type='ORG'), Span(sta...</td>\n",
       "    </tr>\n",
       "    <tr>\n",
       "      <th>https://lenta.ru/news/2019/12/10/zenit/</th>\n",
       "      <td>«Зенит» крупно проиграл «Бенфике» и вылетел из...</td>\n",
       "      <td>Петербургский «Зенит» крупно проиграл лиссабон...</td>\n",
       "      <td>NaN</td>\n",
       "      <td>Футбол</td>\n",
       "      <td>2019/12/10</td>\n",
       "      <td>lenta</td>\n",
       "      <td>[Span(start=15, stop=20, type='ORG'), Span(sta...</td>\n",
       "    </tr>\n",
       "  </tbody>\n",
       "</table>\n",
       "</div>"
      ],
      "text/plain": [
       "                                                                                         title  \\\n",
       "url                                                                                              \n",
       "https://lenta.ru/news/2019/12/10/ernst/      Эрнст рассказал о цензуре на российском телеви...   \n",
       "https://lenta.ru/news/2019/12/10/saudi/              Крупнейшая сделка в истории поменяла цель   \n",
       "https://lenta.ru/news/2019/12/10/ponomarev/  Путин рассказал о тайной связи правозащитника ...   \n",
       "https://lenta.ru/news/2019/12/10/hailsatan/  Стюардессы оскорбились внешним видом пассажирк...   \n",
       "https://lenta.ru/news/2019/12/10/zenit/      «Зенит» крупно проиграл «Бенфике» и вылетел из...   \n",
       "\n",
       "                                                                                          text  \\\n",
       "url                                                                                              \n",
       "https://lenta.ru/news/2019/12/10/ernst/      Генеральный директор Первого канала Константин...   \n",
       "https://lenta.ru/news/2019/12/10/saudi/      Власти Саудовской Аравии с помощью первичного ...   \n",
       "https://lenta.ru/news/2019/12/10/ponomarev/  Лидер ликвидированного правозащитного движения...   \n",
       "https://lenta.ru/news/2019/12/10/hailsatan/  Пассажирка авиакомпании American Airlines пожа...   \n",
       "https://lenta.ru/news/2019/12/10/zenit/      Петербургский «Зенит» крупно проиграл лиссабон...   \n",
       "\n",
       "                                             topic          tags        date  \\\n",
       "url                                                                            \n",
       "https://lenta.ru/news/2019/12/10/ernst/        NaN    ТВ и радио  2019/12/10   \n",
       "https://lenta.ru/news/2019/12/10/saudi/        NaN         Рынки  2019/12/10   \n",
       "https://lenta.ru/news/2019/12/10/ponomarev/    NaN      Политика  2019/12/10   \n",
       "https://lenta.ru/news/2019/12/10/hailsatan/    NaN  Происшествия  2019/12/10   \n",
       "https://lenta.ru/news/2019/12/10/zenit/        NaN        Футбол  2019/12/10   \n",
       "\n",
       "                                            source  \\\n",
       "url                                                  \n",
       "https://lenta.ru/news/2019/12/10/ernst/      lenta   \n",
       "https://lenta.ru/news/2019/12/10/saudi/      lenta   \n",
       "https://lenta.ru/news/2019/12/10/ponomarev/  lenta   \n",
       "https://lenta.ru/news/2019/12/10/hailsatan/  lenta   \n",
       "https://lenta.ru/news/2019/12/10/zenit/      lenta   \n",
       "\n",
       "                                                                                      entities  \n",
       "url                                                                                             \n",
       "https://lenta.ru/news/2019/12/10/ernst/      [Span(start=21, stop=35, type='ORG'), Span(sta...  \n",
       "https://lenta.ru/news/2019/12/10/saudi/      [Span(start=7, stop=24, type='LOC'), Span(star...  \n",
       "https://lenta.ru/news/2019/12/10/ponomarev/  [Span(start=48, stop=65, type='ORG'), Span(sta...  \n",
       "https://lenta.ru/news/2019/12/10/hailsatan/  [Span(start=24, stop=41, type='ORG'), Span(sta...  \n",
       "https://lenta.ru/news/2019/12/10/zenit/      [Span(start=15, stop=20, type='ORG'), Span(sta...  "
      ]
     },
     "execution_count": 19,
     "metadata": {},
     "output_type": "execute_result"
    }
   ],
   "source": [
    "# Get all entities from text\n",
    "def get_entities_func(ner):\n",
    "    return lambda text: ner(text).spans\n",
    "df_tail['entities'] = df_tail['text'].parallel_apply(get_entities_func(ner))\n",
    "df_tail.head()"
   ]
  },
  {
   "cell_type": "code",
   "execution_count": 20,
   "metadata": {},
   "outputs": [
    {
     "name": "stdout",
     "output_type": "stream",
     "text": [
      "<class 'pandas.core.frame.DataFrame'>\n",
      "Index: 1000 entries, https://lenta.ru/news/2019/12/10/ernst/ to https://lenta.ru/news/2019/12/14/olimp/\n",
      "Data columns (total 7 columns):\n",
      " #   Column    Non-Null Count  Dtype  \n",
      "---  ------    --------------  -----  \n",
      " 0   title     1000 non-null   object \n",
      " 1   text      1000 non-null   object \n",
      " 2   topic     0 non-null      float64\n",
      " 3   tags      993 non-null    object \n",
      " 4   date      1000 non-null   object \n",
      " 5   source    1000 non-null   object \n",
      " 6   entities  1000 non-null   object \n",
      "dtypes: float64(1), object(6)\n",
      "memory usage: 62.5+ KB\n"
     ]
    }
   ],
   "source": [
    "df_tail.info()"
   ]
  }
 ],
 "metadata": {
  "kernelspec": {
   "display_name": "Python 3 (ipykernel)",
   "language": "python",
   "name": "python3"
  },
  "orig_nbformat": 4
 },
 "nbformat": 4,
 "nbformat_minor": 2
}

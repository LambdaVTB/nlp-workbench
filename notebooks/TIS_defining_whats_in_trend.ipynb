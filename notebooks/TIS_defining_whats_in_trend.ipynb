{
 "cells": [
  {
   "cell_type": "code",
   "execution_count": null,
   "metadata": {},
   "outputs": [],
   "source": []
  },
  {
   "cell_type": "code",
   "execution_count": 164,
   "metadata": {},
   "outputs": [
    {
     "name": "stdout",
     "output_type": "stream",
     "text": [
      "[{'date': time.struct_time(tm_year=2021, tm_mon=12, tm_mday=29, tm_hour=13, tm_min=33, tm_sec=0, tm_wday=2, tm_yday=363, tm_isdst=0),\n",
      "  'source': 'rb_pr',\n",
      "  'tags': ['PR'],\n",
      "  'text': 'Расширение инфополя, глобальный кризис, усиление роли HR, смена '\n",
      "          'повестки, перестановки на рынке новых медиа и классических СМИ, '\n",
      "          'тотальный уход в онлайн — все это оказало огромное влияние на рынок '\n",
      "          'коммуникаций в 2021 году и продолжит менять его в 2022. Александр '\n",
      "          'Изряднов, сооснователь агентства Vinci PR, рассказывает о ключевых '\n",
      "          'трендах пиара на будущий год.',\n",
      "  'title': 'Топ-5 трендов в пиаре на 2022 год: слияние с маркетингом, '\n",
      "           'сопротивление онлайну и другое',\n",
      "  'url': 'https://rb.ru/opinion/5-trends-pr-2022/'},\n",
      " {'date': time.struct_time(tm_year=2021, tm_mon=12, tm_mday=29, tm_hour=1, tm_min=0, tm_sec=0, tm_wday=2, tm_yday=363, tm_isdst=0),\n",
      "  'source': 'rb_pr',\n",
      "  'tags': ['PR'],\n",
      "  'text': 'Судьба CEO когда-то успешного ювелирного бизнеса должна послужить '\n",
      "          'предупреждением для современных бизнесменов, одержимых Twitter. '\n",
      "          'Когда в апреле 1991 года Джеральд Ратнер вышел на сцену перед 6 '\n",
      "          'тысячами влиятельных бизнесменов, журналистов и высокопоставленных '\n",
      "          'лиц в лондонском Королевском Альберт-холле, он и не подозревал, что '\n",
      "          'его речь станет смертным приговором для его компании. Вот как это '\n",
      "          'произошло.',\n",
      "  'title': 'Как разрушить миллиардный бизнес за 10 секунд: история Джеральда '\n",
      "           'Ратнера',\n",
      "  'url': 'https://rb.ru/story/istoriya-dzheralda-ratnera/'},\n",
      " {'date': time.struct_time(tm_year=2021, tm_mon=12, tm_mday=26, tm_hour=15, tm_min=53, tm_sec=0, tm_wday=6, tm_yday=360, tm_isdst=0),\n",
      "  'source': 'rb_pr',\n",
      "  'tags': ['PR'],\n",
      "  'text': 'Медийная реклама сама по себе тренд последних лет. Это отличный '\n",
      "          'полигон для экспериментов и поиска новых форматов. Сергей Самонин, '\n",
      "          'СЕО сервиса RTBSape, рассказывает, что интересного происходит на '\n",
      "          'рынке медийной рекламы, чего ожидать от него, к чему прицениваться, '\n",
      "          'на что лучше всего заложить дополнительный бюджет в следующем году.',\n",
      "  'title': 'Реклама будущего: 5 трендов, которые могут полностью изменить '\n",
      "           'рынок',\n",
      "  'url': 'https://rb.ru/opinion/reklama-budushego/'}]\n"
     ]
    }
   ],
   "source": [
    "# Получить последние новости\n",
    "import feedparser\n",
    "from pprint import pprint\n",
    "\n",
    "# SOURCES = {\n",
    "#     # Habr\n",
    "#     # 'habr': 'https://habr.com/ru/rss/all/all/?fl=ru',\n",
    "\n",
    "#     # Rubase\n",
    "#     ## By companies\n",
    "#     # 'rb_chance': \"https://rb.ru/feeds/tag/chance/\",\n",
    "#     # 'rb_vk': \"https://rb.ru/feeds/tag/vk/\",\n",
    "#     'rb_rvc': \"https://rb.ru/feeds/tag/rvc/\",\n",
    "#     # 'rb_yandex': \"https://rb.ru/feeds/tag/yandex/\",\n",
    "#     'rb_skolkovo': \"https://rb.ru/feeds/tag/skolkovo/\",\n",
    "#     # 'rb_facebook': \"https://rb.ru/feeds/tag/facebook/\",\n",
    "#     'rb_mailru': \"https://rb.ru/feeds/tag/mailru/\",\n",
    "#     # 'rb_microsoft': \"https://rb.ru/feeds/tag/microsoft/\",\n",
    "\n",
    "#     ## By topics\n",
    "#     'rb_advertising': \"https://rb.ru/feeds/tag/advertising/\",\n",
    "#     # 'rb_robotics': \"https://rb.ru/feeds/tag/robotics/\",\n",
    "#     # 'rb_it': \"https://rb.ru/feeds/tag/it/\",\n",
    "#     # 'rb_bigdata': \"https://rb.ru/feeds/tag/bigdata/\",\n",
    "#     'rb_china': \"https://rb.ru/feeds/tag/china/\",\n",
    "#     'rb_finance': \"https://rb.ru/feeds/tag/fintech/\",\n",
    "#     # 'rb_cloud': \"https://rb.ru/feeds/tag/cloud/\",\n",
    "\n",
    "#     # Vedomosti\n",
    "#     # 'vd_business': \"https://www.vedomosti.ru/rss/rubric/business\",\n",
    "#     # 'vd_it_business': \"https://www.vedomosti.ru/rss/rubric/it_business\",\n",
    "#     # 'vd_finance': \"https://www.vedomosti.ru/rss/rubric/finance\",\n",
    "#     # 'vd_opinion': \"https://www.vedomosti.ru/rss/rubric/opinion\",\n",
    "#     # 'vd_analytics': \"https://www.vedomosti.ru/rss/rubric/opinion/analytics\",\n",
    "\n",
    "\n",
    "#     # RT\n",
    "#     # 'rt': \"https://russian.rt.com/rss/\",\n",
    "# }\n",
    "\n",
    "\n",
    "SOURCES = {\n",
    "    # \"rt\": \"https://russian.rt.com/rss\",\n",
    "    \"vd\": \"https://www.vedomosti.ru/rss/news\",\n",
    "\n",
    "    # for buhgalter\n",
    "    \"buh\": \"https://buh.ru/rss/?chanel=news\",\n",
    "    \"klerk\": \"https://www.klerk.ru/export/news.rss\",\n",
    "    \"audit-it\": \"http://www.audit-it.ru/rss/news_all.xml\",\n",
    "    # \"rb\": \"https://rb.ru/feeds/all/\",\n",
    "\n",
    "    # for business owner\n",
    "    # \"rb\": \"https://rb.ru/feeds/all/\",\n",
    "    \"rb_pr\": \"https://rb.ru/feeds/tag/pr/\",\n",
    "    \"rb_finance\": \"https://rb.ru/feeds/tag/fintech/\",\n",
    "    \"rb_hr\": \"https://rb.ru/feeds/tag/hr/\",\n",
    "    \"rb_crypto\": \"https://rb.ru/feeds/tag/crypto/\",\n",
    "    \"rb_marketing\": \"https://rb.ru/feeds/tag/marketing/\",\n",
    "    \"rmblr_finance\": \"https://finance.rambler.ru/rss/economics/\",\n",
    "    \"rmblr_business\": \"https://finance.rambler.ru/rss/business/\",\n",
    "    \"rmblr_markets\": \"https://finance.rambler.ru/rss/markets/\",\n",
    "}\n",
    "\n",
    "rb_topics = {\n",
    "    \"rb_pr\":\"PR\",\n",
    "    \"rb_finance\":\"Финансы\",\n",
    "    \"rb_hr\":\"HR\",\n",
    "    \"rb_crypto\":\"Криптовалюты\",\n",
    "    \"rb_marketing\":\"Маркетинг\",\n",
    "}\n",
    "\n",
    "class RSSParser:\n",
    "    def __init__(self, sources: dict[str,str]):\n",
    "        self.sources = sources\n",
    "\n",
    "    def fetch_entries(self) -> list[dict]:\n",
    "        entries = []\n",
    "        for source, url in self.sources.items():\n",
    "            feed = feedparser.parse(url)\n",
    "            # If there is no tags for entries, skip source and print warning\n",
    "            if not feed['entries'][0].get('tags') and source not in rb_topics:\n",
    "                print(f\"Warning: No tags for source {source}\")\n",
    "                continue\n",
    "\n",
    "            for entry in feed['entries']:\n",
    "                entry['source'] = source\n",
    "                entries.append(entry)\n",
    "        return entries\n",
    "\n",
    "    def standardize_general(self, entry: dict) -> dict:\n",
    "        \"\"\" Turns entry to a standardized format\n",
    "\n",
    "        Args:\n",
    "            entry (dict): entry from feedparser\n",
    "\n",
    "        Returns:\n",
    "            dict: standardized entry in a format:\n",
    "        {\n",
    "            'source': str,\n",
    "            'title': str,\n",
    "            'url':  str,\n",
    "            'date': timestamp with zone,\n",
    "            'tags': list[str],\n",
    "            'text': str,\n",
    "        }\n",
    "        \"\"\"\n",
    "        entry =  {\n",
    "            'source': entry['source'],\n",
    "            'title': entry['title'].replace('\\n', ' ').replace('\\r', ' ').replace('\\t', ' ').replace('\\xa0', ' ').strip(),\n",
    "            'url':  entry['link'],\n",
    "            'date': entry['published_parsed'],\n",
    "            'tags': [tag['term'] for tag in entry['tags']] if 'tags' in entry else [rb_topics[entry['source']]] if entry['source'] in rb_topics else [],\n",
    "            'text': entry['summary'].replace('\\xa0', ' ') if 'summary' in entry else '',\n",
    "        }\n",
    "        # pprint(entry)\n",
    "\n",
    "        return entry\n",
    "\n",
    "    def get_last_standardized_news(self) -> list[dict]:\n",
    "        entries = self.fetch_entries()\n",
    "        return [self.standardize_general(entry) for entry in entries]\n",
    "\n",
    "\n",
    "\n",
    "parser = RSSParser(SOURCES)\n",
    "news = parser.get_last_standardized_news()\n",
    "news = sorted(news, key=lambda x: x['date'], reverse=True)\n",
    "pprint(news[-3:])\n"
   ]
  },
  {
   "cell_type": "code",
   "execution_count": 165,
   "metadata": {},
   "outputs": [
    {
     "name": "stdout",
     "output_type": "stream",
     "text": [
      "INFO: Pandarallel will run on 10 workers.\n",
      "INFO: Pandarallel will use standard multiprocessing data transfer (pipe) to transfer data between the main process and workers.\n",
      "\n",
      "WARNING: You are on Windows. If you detect any issue with pandarallel, be sure you checked out the Troubleshooting page:\n",
      "https://nalepae.github.io/pandarallel/troubleshooting/\n"
     ]
    },
    {
     "data": {
      "text/html": [
       "<div>\n",
       "<style scoped>\n",
       "    .dataframe tbody tr th:only-of-type {\n",
       "        vertical-align: middle;\n",
       "    }\n",
       "\n",
       "    .dataframe tbody tr th {\n",
       "        vertical-align: top;\n",
       "    }\n",
       "\n",
       "    .dataframe thead th {\n",
       "        text-align: right;\n",
       "    }\n",
       "</style>\n",
       "<table border=\"1\" class=\"dataframe\">\n",
       "  <thead>\n",
       "    <tr style=\"text-align: right;\">\n",
       "      <th></th>\n",
       "      <th>source</th>\n",
       "      <th>title</th>\n",
       "      <th>url</th>\n",
       "      <th>date</th>\n",
       "      <th>tags</th>\n",
       "      <th>text</th>\n",
       "    </tr>\n",
       "  </thead>\n",
       "  <tbody>\n",
       "    <tr>\n",
       "      <th>0</th>\n",
       "      <td>rmblr_finance</td>\n",
       "      <td>Раскрыты условия падения рубля</td>\n",
       "      <td>https://finance.rambler.ru/economics/49481215-...</td>\n",
       "      <td>2022-10-09 00:07:03</td>\n",
       "      <td>Экономика</td>\n",
       "      <td>Ведущий аналитик отдела глобальных исследовани...</td>\n",
       "    </tr>\n",
       "    <tr>\n",
       "      <th>1</th>\n",
       "      <td>rmblr_markets</td>\n",
       "      <td>В Крыму не зафиксировали массового серьезного ...</td>\n",
       "      <td>https://finance.rambler.ru/markets/49482014-v-...</td>\n",
       "      <td>2022-10-08 20:35:24</td>\n",
       "      <td>Рынки</td>\n",
       "      <td>Большого количества случаев сильного завышения...</td>\n",
       "    </tr>\n",
       "    <tr>\n",
       "      <th>2</th>\n",
       "      <td>rmblr_finance</td>\n",
       "      <td>ВВП Украины за девять месяцев сократился почти...</td>\n",
       "      <td>https://finance.rambler.ru/economics/49481767-...</td>\n",
       "      <td>2022-10-08 19:36:00</td>\n",
       "      <td>Экономика</td>\n",
       "      <td>Внутренний валовой продукт (ВВП) Украины за де...</td>\n",
       "    </tr>\n",
       "    <tr>\n",
       "      <th>3</th>\n",
       "      <td>rmblr_markets</td>\n",
       "      <td>Bloomberg: Санкции против горнорудной промышле...</td>\n",
       "      <td>https://finance.rambler.ru/markets/49481291-bl...</td>\n",
       "      <td>2022-10-08 18:35:46</td>\n",
       "      <td>Рынки</td>\n",
       "      <td>Потенциальные санкции Лондонской биржи металло...</td>\n",
       "    </tr>\n",
       "    <tr>\n",
       "      <th>4</th>\n",
       "      <td>rb_marketing</td>\n",
       "      <td>Чужая интеллектуальная собственность: что можн...</td>\n",
       "      <td>https://rb.ru/opinion/copyright-in-ads/</td>\n",
       "      <td>2022-10-08 16:32:00</td>\n",
       "      <td>Маркетинг</td>\n",
       "      <td>Что такое реклама, как она охраняется и какие ...</td>\n",
       "    </tr>\n",
       "  </tbody>\n",
       "</table>\n",
       "</div>"
      ],
      "text/plain": [
       "          source                                              title  \\\n",
       "0  rmblr_finance                     Раскрыты условия падения рубля   \n",
       "1  rmblr_markets  В Крыму не зафиксировали массового серьезного ...   \n",
       "2  rmblr_finance  ВВП Украины за девять месяцев сократился почти...   \n",
       "3  rmblr_markets  Bloomberg: Санкции против горнорудной промышле...   \n",
       "4   rb_marketing  Чужая интеллектуальная собственность: что можн...   \n",
       "\n",
       "                                                 url                date  \\\n",
       "0  https://finance.rambler.ru/economics/49481215-... 2022-10-09 00:07:03   \n",
       "1  https://finance.rambler.ru/markets/49482014-v-... 2022-10-08 20:35:24   \n",
       "2  https://finance.rambler.ru/economics/49481767-... 2022-10-08 19:36:00   \n",
       "3  https://finance.rambler.ru/markets/49481291-bl... 2022-10-08 18:35:46   \n",
       "4            https://rb.ru/opinion/copyright-in-ads/ 2022-10-08 16:32:00   \n",
       "\n",
       "        tags                                               text  \n",
       "0  Экономика  Ведущий аналитик отдела глобальных исследовани...  \n",
       "1      Рынки  Большого количества случаев сильного завышения...  \n",
       "2  Экономика  Внутренний валовой продукт (ВВП) Украины за де...  \n",
       "3      Рынки  Потенциальные санкции Лондонской биржи металло...  \n",
       "4  Маркетинг  Что такое реклама, как она охраняется и какие ...  "
      ]
     },
     "execution_count": 165,
     "metadata": {},
     "output_type": "execute_result"
    }
   ],
   "source": [
    "import pandas as pd\n",
    "from pandarallel import pandarallel as pdpl\n",
    "import time\n",
    "pdpl.initialize(progress_bar=True)\n",
    "\n",
    "df = pd.DataFrame(news)\n",
    "df.head()\n",
    "\n",
    "# concat tags\n",
    "df['tags'] = df['tags'].apply(lambda x: ', '.join(x))\n",
    "\n",
    "# convert from time.struct_time to datetime\n",
    "df['date'] = df['date'].apply(lambda x: time.strftime(\"%Y-%m-%d %H:%M:%S\", x))\n",
    "df['date'] = pd.to_datetime(df['date'])\n",
    "\n",
    "df.head()"
   ]
  },
  {
   "cell_type": "code",
   "execution_count": 166,
   "metadata": {},
   "outputs": [],
   "source": [
    "# Import NER model\n",
    "# coding: utf-8\n",
    "\n",
    "from navec import Navec\n",
    "from slovnet import NER\n",
    "from natasha import (\n",
    "    Segmenter,\n",
    "    MorphVocab,\n",
    "\n",
    "    NewsEmbedding,\n",
    "    NewsMorphTagger,\n",
    "    NewsSyntaxParser,\n",
    "    NewsNERTagger,\n",
    "\n",
    "    PER,\n",
    "    NamesExtractor,\n",
    "\n",
    "    Doc\n",
    ")\n",
    "\n",
    "class NERParser:\n",
    "    def __init__(self, navec_weights: str, ner_weights: str) -> None:\n",
    "        self.navec = Navec.load(navec_weights)\n",
    "        self.ner = NER.load(ner_weights)\n",
    "        self.ner.navec(self.navec)\n",
    "        self.emb = NewsEmbedding()\n",
    "        self.morph_tagger = NewsMorphTagger(self.emb)\n",
    "        self.segmenter = Segmenter()\n",
    "\n",
    "    def get_ners_dict(self, text: str) -> dict:\n",
    "        \"\"\" Returns a dictionary of named entities in a text\n",
    "            Args:\n",
    "                text (str): text to parse\n",
    "                ner_model (slovnet.NER): ner model\n",
    "\n",
    "            Returns:\n",
    "                dict: dictionary of named entities in a text\n",
    "            \"\"\"\n",
    "            # Use this function with pandarallel's parallel_apply\n",
    "        markup = self.ner(text)\n",
    "        ORGS, PERS, LOCS = [], [], []\n",
    "        for span in markup.spans:\n",
    "            span_text = markup.text[span.start:span.stop]\n",
    "            {\n",
    "                'ORG': ORGS,\n",
    "                'PER': PERS,\n",
    "                'LOC': LOCS,\n",
    "\n",
    "            }[span.type].append(span_text)\n",
    "            # print(span.type, span_text)\n",
    "        # Получить существительные из текста\n",
    "        doc = Doc(text)\n",
    "        doc.segment(self.segmenter)\n",
    "        doc.tag_morph(self.morph_tagger)\n",
    "        nouns = [_.text for _ in doc.tokens if _.pos == 'NOUN']\n",
    "        print(nouns)\n",
    "        return {'ORGs': ORGS, 'PERs': PERS, 'LOCs': LOCS, 'NOUs': nouns}\n",
    "\n",
    "\n",
    "\n",
    "ner = NERParser(\n",
    "    r\"S:\\Workspace\\MORETECH\\nlp-workbench\\models\\navec_news_v1_1B_250K_300d_100q.tar\",\n",
    "    r\"S:\\Workspace\\MORETECH\\nlp-workbench\\models\\slovnet_ner_news_v1.tar\",\n",
    ")\n",
    "# markup = ner.ner(text)\n",
    "# print(show_markup(markup.text, markup.spans))\n",
    "\n"
   ]
  },
  {
   "cell_type": "code",
   "execution_count": 183,
   "metadata": {},
   "outputs": [],
   "source": [
    "# Parse NERs\n",
    "# from natasha import Doc\n",
    "# df['ners'] = df['title'].apply(ner.get_ners_dict)"
   ]
  },
  {
   "cell_type": "code",
   "execution_count": 168,
   "metadata": {},
   "outputs": [
    {
     "data": {
      "text/html": [
       "<div>\n",
       "<style scoped>\n",
       "    .dataframe tbody tr th:only-of-type {\n",
       "        vertical-align: middle;\n",
       "    }\n",
       "\n",
       "    .dataframe tbody tr th {\n",
       "        vertical-align: top;\n",
       "    }\n",
       "\n",
       "    .dataframe thead th {\n",
       "        text-align: right;\n",
       "    }\n",
       "</style>\n",
       "<table border=\"1\" class=\"dataframe\">\n",
       "  <thead>\n",
       "    <tr style=\"text-align: right;\">\n",
       "      <th></th>\n",
       "      <th>source</th>\n",
       "      <th>title</th>\n",
       "      <th>url</th>\n",
       "      <th>date</th>\n",
       "      <th>tags</th>\n",
       "      <th>text</th>\n",
       "      <th>ners</th>\n",
       "    </tr>\n",
       "  </thead>\n",
       "  <tbody>\n",
       "    <tr>\n",
       "      <th>0</th>\n",
       "      <td>rmblr_finance</td>\n",
       "      <td>Раскрыты условия падения рубля</td>\n",
       "      <td>https://finance.rambler.ru/economics/49481215-...</td>\n",
       "      <td>2022-10-09 00:07:03</td>\n",
       "      <td>Экономика</td>\n",
       "      <td>Ведущий аналитик отдела глобальных исследовани...</td>\n",
       "      <td>{'ORGs': [], 'PERs': [], 'LOCs': [], 'NOUs': [...</td>\n",
       "    </tr>\n",
       "    <tr>\n",
       "      <th>1</th>\n",
       "      <td>rmblr_markets</td>\n",
       "      <td>В Крыму не зафиксировали массового серьезного ...</td>\n",
       "      <td>https://finance.rambler.ru/markets/49482014-v-...</td>\n",
       "      <td>2022-10-08 20:35:24</td>\n",
       "      <td>Рынки</td>\n",
       "      <td>Большого количества случаев сильного завышения...</td>\n",
       "      <td>{'ORGs': [], 'PERs': [], 'LOCs': ['Крыму'], 'N...</td>\n",
       "    </tr>\n",
       "    <tr>\n",
       "      <th>2</th>\n",
       "      <td>rmblr_finance</td>\n",
       "      <td>ВВП Украины за девять месяцев сократился почти...</td>\n",
       "      <td>https://finance.rambler.ru/economics/49481767-...</td>\n",
       "      <td>2022-10-08 19:36:00</td>\n",
       "      <td>Экономика</td>\n",
       "      <td>Внутренний валовой продукт (ВВП) Украины за де...</td>\n",
       "      <td>{'ORGs': [], 'PERs': [], 'LOCs': ['Украины'], ...</td>\n",
       "    </tr>\n",
       "    <tr>\n",
       "      <th>3</th>\n",
       "      <td>rmblr_markets</td>\n",
       "      <td>Bloomberg: Санкции против горнорудной промышле...</td>\n",
       "      <td>https://finance.rambler.ru/markets/49481291-bl...</td>\n",
       "      <td>2022-10-08 18:35:46</td>\n",
       "      <td>Рынки</td>\n",
       "      <td>Потенциальные санкции Лондонской биржи металло...</td>\n",
       "      <td>{'ORGs': ['Bloomberg'], 'PERs': [], 'LOCs': ['...</td>\n",
       "    </tr>\n",
       "    <tr>\n",
       "      <th>4</th>\n",
       "      <td>rb_marketing</td>\n",
       "      <td>Чужая интеллектуальная собственность: что можн...</td>\n",
       "      <td>https://rb.ru/opinion/copyright-in-ads/</td>\n",
       "      <td>2022-10-08 16:32:00</td>\n",
       "      <td>Маркетинг</td>\n",
       "      <td>Что такое реклама, как она охраняется и какие ...</td>\n",
       "      <td>{'ORGs': [], 'PERs': [], 'LOCs': [], 'NOUs': [...</td>\n",
       "    </tr>\n",
       "  </tbody>\n",
       "</table>\n",
       "</div>"
      ],
      "text/plain": [
       "          source                                              title  \\\n",
       "0  rmblr_finance                     Раскрыты условия падения рубля   \n",
       "1  rmblr_markets  В Крыму не зафиксировали массового серьезного ...   \n",
       "2  rmblr_finance  ВВП Украины за девять месяцев сократился почти...   \n",
       "3  rmblr_markets  Bloomberg: Санкции против горнорудной промышле...   \n",
       "4   rb_marketing  Чужая интеллектуальная собственность: что можн...   \n",
       "\n",
       "                                                 url                date  \\\n",
       "0  https://finance.rambler.ru/economics/49481215-... 2022-10-09 00:07:03   \n",
       "1  https://finance.rambler.ru/markets/49482014-v-... 2022-10-08 20:35:24   \n",
       "2  https://finance.rambler.ru/economics/49481767-... 2022-10-08 19:36:00   \n",
       "3  https://finance.rambler.ru/markets/49481291-bl... 2022-10-08 18:35:46   \n",
       "4            https://rb.ru/opinion/copyright-in-ads/ 2022-10-08 16:32:00   \n",
       "\n",
       "        tags                                               text  \\\n",
       "0  Экономика  Ведущий аналитик отдела глобальных исследовани...   \n",
       "1      Рынки  Большого количества случаев сильного завышения...   \n",
       "2  Экономика  Внутренний валовой продукт (ВВП) Украины за де...   \n",
       "3      Рынки  Потенциальные санкции Лондонской биржи металло...   \n",
       "4  Маркетинг  Что такое реклама, как она охраняется и какие ...   \n",
       "\n",
       "                                                ners  \n",
       "0  {'ORGs': [], 'PERs': [], 'LOCs': [], 'NOUs': [...  \n",
       "1  {'ORGs': [], 'PERs': [], 'LOCs': ['Крыму'], 'N...  \n",
       "2  {'ORGs': [], 'PERs': [], 'LOCs': ['Украины'], ...  \n",
       "3  {'ORGs': ['Bloomberg'], 'PERs': [], 'LOCs': ['...  \n",
       "4  {'ORGs': [], 'PERs': [], 'LOCs': [], 'NOUs': [...  "
      ]
     },
     "execution_count": 168,
     "metadata": {},
     "output_type": "execute_result"
    }
   ],
   "source": [
    "df.head()\n"
   ]
  },
  {
   "cell_type": "code",
   "execution_count": 169,
   "metadata": {},
   "outputs": [
    {
     "name": "stdout",
     "output_type": "stream",
     "text": [
      "Requirement already satisfied: natasha in c:\\programdata\\anaconda3\\lib\\site-packages (1.4.0)\n",
      "Requirement already satisfied: yargy>=0.14.0 in c:\\programdata\\anaconda3\\lib\\site-packages (from natasha) (0.15.0)\n",
      "Requirement already satisfied: slovnet>=0.3.0 in c:\\programdata\\anaconda3\\lib\\site-packages (from natasha) (0.5.0)\n",
      "Requirement already satisfied: navec>=0.9.0 in c:\\programdata\\anaconda3\\lib\\site-packages (from natasha) (0.10.0)\n",
      "Requirement already satisfied: pymorphy2 in c:\\programdata\\anaconda3\\lib\\site-packages (from natasha) (0.9.1)\n",
      "Requirement already satisfied: ipymarkup>=0.8.0 in c:\\programdata\\anaconda3\\lib\\site-packages (from natasha) (0.9.0)\n",
      "Requirement already satisfied: razdel>=0.5.0 in c:\\programdata\\anaconda3\\lib\\site-packages (from natasha) (0.5.0)\n",
      "Requirement already satisfied: intervaltree>=3 in c:\\programdata\\anaconda3\\lib\\site-packages (from ipymarkup>=0.8.0->natasha) (3.1.0)\n",
      "Requirement already satisfied: sortedcontainers<3.0,>=2.0 in c:\\programdata\\anaconda3\\lib\\site-packages (from intervaltree>=3->ipymarkup>=0.8.0->natasha) (2.4.0)\n",
      "Requirement already satisfied: numpy in c:\\programdata\\anaconda3\\lib\\site-packages (from navec>=0.9.0->natasha) (1.21.5)\n",
      "Requirement already satisfied: docopt>=0.6 in c:\\programdata\\anaconda3\\lib\\site-packages (from pymorphy2->natasha) (0.6.2)\n",
      "Requirement already satisfied: dawg-python>=0.7.1 in c:\\programdata\\anaconda3\\lib\\site-packages (from pymorphy2->natasha) (0.7.2)\n",
      "Requirement already satisfied: pymorphy2-dicts-ru<3.0,>=2.4 in c:\\programdata\\anaconda3\\lib\\site-packages (from pymorphy2->natasha) (2.4.417127.4579844)\n",
      "Note: you may need to restart the kernel to use updated packages.\n"
     ]
    }
   ],
   "source": [
    "%pip install natasha"
   ]
  },
  {
   "cell_type": "code",
   "execution_count": 170,
   "metadata": {},
   "outputs": [],
   "source": [
    "# %conda update -n base -c defaults conda\n",
    "# %conda install -c conda-forge pymorphy2\n"
   ]
  },
  {
   "cell_type": "code",
   "execution_count": 171,
   "metadata": {},
   "outputs": [
    {
     "name": "stdout",
     "output_type": "stream",
     "text": [
      "['в', 'россия', 'с', '1', 'июль', 'ввести', 'новый', 'правило', 'для', 'водитель']\n"
     ]
    }
   ],
   "source": [
    "# Russian lemmatisation example\n",
    "# coding: utf-8\n",
    "\n",
    "from navec import Navec\n",
    "from slovnet import Morph\n",
    "from natasha import (\n",
    "    Segmenter,\n",
    "    MorphVocab,\n",
    "\n",
    "    NewsEmbedding,\n",
    "    NewsMorphTagger,\n",
    "    NewsSyntaxParser,\n",
    "    NewsNERTagger,\n",
    "\n",
    "    PER,\n",
    "    NamesExtractor,\n",
    "\n",
    "    Doc\n",
    ")\n",
    "\n",
    "class Lemmatizer:\n",
    "    def __init__(self) -> None:\n",
    "        self.segmenter = Segmenter()\n",
    "        self.morph_vocab = MorphVocab()\n",
    "        self.emb = NewsEmbedding()\n",
    "        self.morph_tagger = NewsMorphTagger(self.emb)\n",
    "\n",
    "\n",
    "    def lemmatize(self, text: str) -> list[str]:\n",
    "        \"\"\" Lemmatizes a text\n",
    "        Args:\n",
    "            text (str): text to lemmatize\n",
    "\n",
    "        Returns:\n",
    "            list[str]: list of lemmas\n",
    "        \"\"\"\n",
    "        # Use this function with pandarallel's parallel_apply\n",
    "        doc = Doc(text)\n",
    "        doc.segment(self.segmenter)\n",
    "        doc.tag_morph(self.morph_tagger)\n",
    "        for token in doc.tokens:\n",
    "            token.lemmatize(self.morph_vocab)\n",
    "        return [_.lemma for _ in doc.tokens]\n",
    "\n",
    "\n",
    "lemmatizer = Lemmatizer()\n",
    "\n",
    "# lemmatize example\n",
    "text = \"В России с 1 июля введут новые правила для водителей\"\n",
    "lemmas = lemmatizer.lemmatize(text)\n",
    "print(lemmas)\n",
    "\n",
    "\n"
   ]
  },
  {
   "cell_type": "code",
   "execution_count": 172,
   "metadata": {},
   "outputs": [
    {
     "data": {
      "text/html": [
       "<div>\n",
       "<style scoped>\n",
       "    .dataframe tbody tr th:only-of-type {\n",
       "        vertical-align: middle;\n",
       "    }\n",
       "\n",
       "    .dataframe tbody tr th {\n",
       "        vertical-align: top;\n",
       "    }\n",
       "\n",
       "    .dataframe thead th {\n",
       "        text-align: right;\n",
       "    }\n",
       "</style>\n",
       "<table border=\"1\" class=\"dataframe\">\n",
       "  <thead>\n",
       "    <tr style=\"text-align: right;\">\n",
       "      <th></th>\n",
       "      <th>source</th>\n",
       "      <th>title</th>\n",
       "      <th>url</th>\n",
       "      <th>date</th>\n",
       "      <th>tags</th>\n",
       "      <th>text</th>\n",
       "      <th>ners</th>\n",
       "    </tr>\n",
       "  </thead>\n",
       "  <tbody>\n",
       "    <tr>\n",
       "      <th>0</th>\n",
       "      <td>rmblr_finance</td>\n",
       "      <td>Раскрыты условия падения рубля</td>\n",
       "      <td>https://finance.rambler.ru/economics/49481215-...</td>\n",
       "      <td>2022-10-09 00:07:03</td>\n",
       "      <td>Экономика</td>\n",
       "      <td>Ведущий аналитик отдела глобальных исследовани...</td>\n",
       "      <td>{'ORGs': [], 'PERs': [], 'LOCs': [], 'NOUs': [...</td>\n",
       "    </tr>\n",
       "    <tr>\n",
       "      <th>1</th>\n",
       "      <td>rmblr_markets</td>\n",
       "      <td>В Крыму не зафиксировали массового серьезного ...</td>\n",
       "      <td>https://finance.rambler.ru/markets/49482014-v-...</td>\n",
       "      <td>2022-10-08 20:35:24</td>\n",
       "      <td>Рынки</td>\n",
       "      <td>Большого количества случаев сильного завышения...</td>\n",
       "      <td>{'ORGs': [], 'PERs': [], 'LOCs': ['Крыму'], 'N...</td>\n",
       "    </tr>\n",
       "    <tr>\n",
       "      <th>2</th>\n",
       "      <td>rmblr_finance</td>\n",
       "      <td>ВВП Украины за девять месяцев сократился почти...</td>\n",
       "      <td>https://finance.rambler.ru/economics/49481767-...</td>\n",
       "      <td>2022-10-08 19:36:00</td>\n",
       "      <td>Экономика</td>\n",
       "      <td>Внутренний валовой продукт (ВВП) Украины за де...</td>\n",
       "      <td>{'ORGs': [], 'PERs': [], 'LOCs': ['Украины'], ...</td>\n",
       "    </tr>\n",
       "    <tr>\n",
       "      <th>3</th>\n",
       "      <td>rmblr_markets</td>\n",
       "      <td>Bloomberg: Санкции против горнорудной промышле...</td>\n",
       "      <td>https://finance.rambler.ru/markets/49481291-bl...</td>\n",
       "      <td>2022-10-08 18:35:46</td>\n",
       "      <td>Рынки</td>\n",
       "      <td>Потенциальные санкции Лондонской биржи металло...</td>\n",
       "      <td>{'ORGs': ['Bloomberg'], 'PERs': [], 'LOCs': ['...</td>\n",
       "    </tr>\n",
       "    <tr>\n",
       "      <th>4</th>\n",
       "      <td>rb_marketing</td>\n",
       "      <td>Чужая интеллектуальная собственность: что можн...</td>\n",
       "      <td>https://rb.ru/opinion/copyright-in-ads/</td>\n",
       "      <td>2022-10-08 16:32:00</td>\n",
       "      <td>Маркетинг</td>\n",
       "      <td>Что такое реклама, как она охраняется и какие ...</td>\n",
       "      <td>{'ORGs': [], 'PERs': [], 'LOCs': [], 'NOUs': [...</td>\n",
       "    </tr>\n",
       "  </tbody>\n",
       "</table>\n",
       "</div>"
      ],
      "text/plain": [
       "          source                                              title  \\\n",
       "0  rmblr_finance                     Раскрыты условия падения рубля   \n",
       "1  rmblr_markets  В Крыму не зафиксировали массового серьезного ...   \n",
       "2  rmblr_finance  ВВП Украины за девять месяцев сократился почти...   \n",
       "3  rmblr_markets  Bloomberg: Санкции против горнорудной промышле...   \n",
       "4   rb_marketing  Чужая интеллектуальная собственность: что можн...   \n",
       "\n",
       "                                                 url                date  \\\n",
       "0  https://finance.rambler.ru/economics/49481215-... 2022-10-09 00:07:03   \n",
       "1  https://finance.rambler.ru/markets/49482014-v-... 2022-10-08 20:35:24   \n",
       "2  https://finance.rambler.ru/economics/49481767-... 2022-10-08 19:36:00   \n",
       "3  https://finance.rambler.ru/markets/49481291-bl... 2022-10-08 18:35:46   \n",
       "4            https://rb.ru/opinion/copyright-in-ads/ 2022-10-08 16:32:00   \n",
       "\n",
       "        tags                                               text  \\\n",
       "0  Экономика  Ведущий аналитик отдела глобальных исследовани...   \n",
       "1      Рынки  Большого количества случаев сильного завышения...   \n",
       "2  Экономика  Внутренний валовой продукт (ВВП) Украины за де...   \n",
       "3      Рынки  Потенциальные санкции Лондонской биржи металло...   \n",
       "4  Маркетинг  Что такое реклама, как она охраняется и какие ...   \n",
       "\n",
       "                                                ners  \n",
       "0  {'ORGs': [], 'PERs': [], 'LOCs': [], 'NOUs': [...  \n",
       "1  {'ORGs': [], 'PERs': [], 'LOCs': ['Крыму'], 'N...  \n",
       "2  {'ORGs': [], 'PERs': [], 'LOCs': ['Украины'], ...  \n",
       "3  {'ORGs': ['Bloomberg'], 'PERs': [], 'LOCs': ['...  \n",
       "4  {'ORGs': [], 'PERs': [], 'LOCs': [], 'NOUs': [...  "
      ]
     },
     "execution_count": 172,
     "metadata": {},
     "output_type": "execute_result"
    }
   ],
   "source": [
    "df_backup = df.copy()\n",
    "df_backup.head()\n",
    "# df_backup['ners'].head(20).values"
   ]
  },
  {
   "cell_type": "code",
   "execution_count": 181,
   "metadata": {},
   "outputs": [
    {
     "data": {
      "text/plain": [
       "45"
      ]
     },
     "execution_count": 181,
     "metadata": {},
     "output_type": "execute_result"
    }
   ],
   "source": [
    "len(df_backup.value_counts('tags'))"
   ]
  },
  {
   "cell_type": "code",
   "execution_count": 182,
   "metadata": {},
   "outputs": [],
   "source": [
    "# Count by tag:\n",
    "# just filter by tag and count"
   ]
  },
  {
   "cell_type": "code",
   "execution_count": 175,
   "metadata": {},
   "outputs": [
    {
     "data": {
      "application/vnd.plotly.v1+json": {
       "config": {
        "plotlyServerURL": "https://plot.ly"
       },
       "data": [
        {
         "marker": {
          "color": "rgb(55, 83, 109)"
         },
         "name": "Организации",
         "type": "bar",
         "x": [
          "мид",
          "госдума",
          "минобороны",
          "нато",
          "фнс",
          "bloomberg",
          "минфин",
          "яндекс",
          "revolut",
          "цб",
          "сбербанк",
          "всу",
          "ип",
          "fintech",
          "obi",
          "telegram-каналов",
          "фтс",
          "ск",
          "twitter",
          "g",
          "авить",
          "минюст",
          "y",
          "тинькофф",
          "запорожский",
          "фсб",
          "гд",
          "минстрой",
          "мкс",
          "baltic",
          "всемирный",
          "nyt",
          "российский",
          "nasa",
          "зампред",
          "nhk",
          "букингемский",
          "херсонский",
          "whatsapp",
          "минпромторг",
          "ер",
          "заэс",
          "экологический",
          "apple",
          "опек",
          "сбпэя",
          "мкб",
          "служба",
          "telegram",
          "qiwi",
          "linkedin",
          "anna",
          "softline",
          "google",
          "ростелеком",
          "nft",
          "лайкнуть",
          "формуле-1",
          "wildberries",
          "christie",
          "ethereum",
          "кс",
          "росбанк",
          "фома",
          "politico",
          "росстат",
          "снг",
          "северсталь",
          "сзв-тд",
          "минтруд",
          "тэс",
          "meta",
          "der",
          "мосгордума",
          "мемориал",
          "роструд",
          "starlink",
          "минтранс",
          "it-компания",
          "скр",
          "afp",
          "сво",
          "ржд",
          "мвд",
          "россия",
          "стд-р",
          "роскомнадзор",
          "гознак",
          "фнб",
          "сахалина-2",
          "тц",
          "оаг",
          "топ-10",
          "1",
          "фгуп",
          "бухгалтерия",
          "вциома",
          "reuters",
          "правозащитный",
          "бух",
          "тк",
          "минэкономики",
          "raiffeisen",
          "santander",
          "стокмана",
          "верховный",
          "альф-капитал"
         ],
         "y": [
          9,
          6,
          5,
          4,
          4,
          3,
          3,
          3,
          3,
          3,
          3,
          2,
          2,
          2,
          2,
          2,
          2,
          2,
          2,
          2,
          2,
          2,
          2,
          2,
          2,
          2,
          1,
          1,
          1,
          1,
          1,
          1,
          1,
          1,
          1,
          1,
          1,
          1,
          1,
          1,
          1,
          1,
          1,
          1,
          1,
          1,
          1,
          1,
          1,
          1,
          1,
          1,
          1,
          1,
          1,
          1,
          1,
          1,
          1,
          1,
          1,
          1,
          1,
          1,
          1,
          1,
          1,
          1,
          1,
          1,
          1,
          1,
          1,
          1,
          1,
          1,
          1,
          1,
          1,
          1,
          1,
          1,
          1,
          1,
          1,
          1,
          1,
          1,
          1,
          1,
          1,
          1,
          1,
          1,
          1,
          1,
          1,
          1,
          1,
          1,
          1,
          1,
          1,
          1,
          1,
          1,
          1
         ]
        },
        {
         "marker": {
          "color": "rgb(26, 118, 255)"
         },
         "name": "Локации",
         "type": "bar",
         "x": [
          "россия",
          "украина",
          "ес",
          "сша",
          "евросоюз",
          "крымский",
          "европа",
          "эстония",
          "белоруссия",
          "крым",
          "казахстан",
          "москва",
          "санкт-петербург",
          "польша",
          "рф",
          "германия",
          "сербия",
          "севастополь",
          "нидерланды",
          "херсонский",
          "запорожский",
          "нижегородский",
          "кремль",
          "суворовский",
          "зайцевый",
          "швеция",
          "курский",
          "таиланд",
          "прага",
          "подмосковье",
          "кндр",
          "флорида",
          "норвегия",
          "запорожье",
          "индия",
          "калуга",
          "великобритания",
          "пенза",
          "сингапур",
          "восток",
          "испания",
          "израиль",
          "калужский",
          "бразилия",
          "япония",
          "анкара",
          "анапа",
          "франция",
          "саудовский",
          "киев",
          "волфино",
          "индонезия",
          "фура",
          "сочи",
          "тайвань",
          "астана",
          "иран",
          "фрг",
          "владимирский",
          "белгородский",
          "энергодар",
          "австрия",
          "краснолиманское",
          "днр",
          "ставрополь",
          "республика",
          "латинский"
         ],
         "y": [
          28,
          13,
          11,
          7,
          6,
          5,
          4,
          3,
          3,
          2,
          2,
          2,
          2,
          2,
          2,
          2,
          2,
          2,
          2,
          2,
          1,
          1,
          1,
          1,
          1,
          1,
          1,
          1,
          1,
          1,
          1,
          1,
          1,
          1,
          1,
          1,
          1,
          1,
          1,
          1,
          1,
          1,
          1,
          1,
          1,
          1,
          1,
          1,
          1,
          1,
          1,
          1,
          1,
          1,
          1,
          1,
          1,
          1,
          1,
          1,
          1,
          1,
          1,
          1,
          1,
          1,
          1
         ]
        },
        {
         "marker": {
          "color": "rgb(26, 255, 255)"
         },
         "name": "Люди",
         "type": "bar",
         "x": [
          "путин",
          "маск",
          "зеленский",
          "илона",
          "ким",
          "рогов",
          "карл",
          "белоусов",
          "захаров",
          "пономарев",
          "токаев",
          "алексей",
          "дарья",
          "анна",
          "новак",
          "кадыров",
          "воробьев",
          "курский",
          "медведев",
          "володин",
          "небанальный",
          "нативка",
          "мишустин",
          "фридман",
          "александр",
          "дуров",
          "анни",
          "турчак",
          "владимир",
          "оксимирон",
          "собчак",
          "энергодар",
          "мордашов",
          "лукашенко",
          "чернышенко",
          "белозеров",
          "мурадов",
          "шойгу",
          "байден",
          "дерипаска",
          "алиев",
          "матвиенко",
          "сергей",
          "бастрыкин",
          "джеральд"
         ],
         "y": [
          6,
          4,
          3,
          3,
          2,
          2,
          2,
          2,
          2,
          1,
          1,
          1,
          1,
          1,
          1,
          1,
          1,
          1,
          1,
          1,
          1,
          1,
          1,
          1,
          1,
          1,
          1,
          1,
          1,
          1,
          1,
          1,
          1,
          1,
          1,
          1,
          1,
          1,
          1,
          1,
          1,
          1,
          1,
          1,
          1
         ]
        },
        {
         "marker": {
          "color": "rgb(26, 255, 26)"
         },
         "name": "Существительные",
         "type": "bar",
         "x": [
          "версия",
          "бизнес",
          "россиянин",
          "работодатель",
          "возможность",
          "банк",
          "посол",
          "санкция",
          "компания",
          "мошенник",
          "цена",
          "губернатор",
          "человек",
          "доля",
          "курс",
          "запрет",
          "повышение",
          "млрд",
          "начало",
          "закон",
          "условие",
          "готовность",
          "страна",
          "тренд",
          "глава",
          "мобилизовать",
          "силу",
          "поставщик",
          "аванс",
          "каникулы",
          "подборка",
          "запуск",
          "финтех-проект",
          "идея",
          "утечка",
          "стартап",
          "pr",
          "поставка",
          "отсрочка",
          "область",
          "совладелец",
          "комитет",
          "мессенджер",
          "президент",
          "проблема",
          "стягивание",
          "освобождение",
          "заявление",
          "год",
          "подготовка",
          "пакет",
          "текст",
          "регион",
          "актив",
          "инструмент",
          "снижение",
          "оператор",
          "продажа",
          "собственность",
          "способ",
          "указ",
          "рост",
          "суд",
          "март",
          "ограничение",
          "мера",
          "предприниматель",
          "поезд",
          "ввоз",
          "партия",
          "ракета",
          "дворец",
          "микрофон",
          "мид",
          "программа",
          "зампред",
          "часть",
          "замглавы",
          "убийство",
          "розыск",
          "коронация",
          "корабль",
          "прогноз",
          "возбуждение",
          "результат",
          "день",
          "диспансеризация",
          "конференция",
          "движение",
          "намерение",
          "командующий",
          "администрация",
          "окончание",
          "объем",
          "сайт",
          "пожелание",
          "решение",
          "прекращение",
          "признак",
          "парламент",
          "угроза",
          "премия",
          "пост",
          "попытка",
          "утка",
          "отношение",
          "проект",
          "экономика",
          "эксперт",
          "ростелеком",
          "отзыв",
          "забастовка",
          "ребрендинг",
          "кандидатура",
          "субсидия",
          "уничтожение",
          "граница",
          "нота",
          "трубопровод",
          "госдолг",
          "наем",
          "служба",
          "доставка",
          "бизнес-семинар",
          "ошибка",
          "позиция",
          "промышленность",
          "аспект",
          "конкуренция",
          "посылка",
          "сервис",
          "долина",
          "член",
          "контроль",
          "протокол",
          "импортозамещение",
          "фонд",
          "стоимость",
          "привлечение",
          "эпоха",
          "форум",
          "месяц",
          "прием",
          "церемония",
          "пиар",
          "успех",
          "особенность",
          "инновация",
          "авить",
          "минобороны",
          "рекрутер",
          "измеритель",
          "дело",
          "руководитель",
          "отрасль",
          "млн",
          "предложение",
          "союз",
          "аренда",
          "конкурент",
          "джуна",
          "продление",
          "интернет-издание",
          "зарплата",
          "маркетолог",
          "шаг",
          "газ",
          "большинство",
          "исследование",
          "поворот",
          "одежда",
          "увольнение",
          "доверие",
          "распоряжение",
          "ценность",
          "страх",
          "филиал",
          "формирование",
          "гибель",
          "британец",
          "кредит",
          "резерв",
          "отбор",
          "манипуляция",
          "инфляция",
          "неделя",
          "еда",
          "публикация",
          "сбой",
          "ответ",
          "физлицо",
          "северсталь",
          "участие",
          "скидка",
          "мужчина",
          "отражение",
          "иноагент",
          "трактор",
          "срок",
          "министр",
          "переход",
          "транспорт",
          "видеозапись",
          "место",
          "желании",
          "ноябрь",
          "семинар",
          "сеть",
          "сентябрь",
          "семья",
          "новость",
          "порядок",
          "поток",
          "нефтепровод",
          "водитель",
          "вопрос",
          "причина",
          "полиция",
          "призыв",
          "бумага",
          "уровень",
          "профессия",
          "район",
          "расследование",
          "штраф",
          "премьер",
          "кабмин",
          "свет",
          "мероприятие",
          "отмена",
          "необходимость",
          "кредитор",
          "путевка",
          "фура",
          "перевозчик",
          "пресс-секретарь",
          "проход",
          "лидер",
          "статус",
          "бухгалтер",
          "пресечение",
          "информация",
          "отключение",
          "документ",
          "житель",
          "оценка",
          "организация",
          "страховщик",
          "гражданин",
          "жительница",
          "список",
          "аккредитация",
          "число",
          "власть",
          "жалоба",
          "мир",
          "отсутствие",
          "рука",
          "грузомат",
          "удар",
          "запас",
          "смерть",
          "инвестиция",
          "валюта",
          "работник",
          "поправка",
          "фанат",
          "владелец",
          "совещание",
          "экономист",
          "работа",
          "сторона",
          "законопроект",
          "канцлер",
          "право",
          "обязательство",
          "слово",
          "прокуратура",
          "аэродром",
          "прибытие",
          "приостановка",
          "гарантия",
          "пошлина",
          "вид",
          "футболист",
          "герой",
          "директива",
          "данные",
          "телефон",
          "номер",
          "центр",
          "реклама"
         ],
         "y": [
          7,
          7,
          6,
          6,
          4,
          4,
          4,
          4,
          4,
          4,
          4,
          4,
          4,
          3,
          3,
          3,
          3,
          3,
          3,
          3,
          3,
          3,
          3,
          3,
          3,
          2,
          2,
          2,
          2,
          2,
          2,
          2,
          2,
          2,
          2,
          2,
          2,
          2,
          2,
          2,
          2,
          2,
          2,
          2,
          2,
          2,
          2,
          2,
          2,
          2,
          2,
          2,
          2,
          2,
          2,
          2,
          2,
          2,
          2,
          2,
          2,
          2,
          2,
          2,
          2,
          2,
          2,
          1,
          1,
          1,
          1,
          1,
          1,
          1,
          1,
          1,
          1,
          1,
          1,
          1,
          1,
          1,
          1,
          1,
          1,
          1,
          1,
          1,
          1,
          1,
          1,
          1,
          1,
          1,
          1,
          1,
          1,
          1,
          1,
          1,
          1,
          1,
          1,
          1,
          1,
          1,
          1,
          1,
          1,
          1,
          1,
          1,
          1,
          1,
          1,
          1,
          1,
          1,
          1,
          1,
          1,
          1,
          1,
          1,
          1,
          1,
          1,
          1,
          1,
          1,
          1,
          1,
          1,
          1,
          1,
          1,
          1,
          1,
          1,
          1,
          1,
          1,
          1,
          1,
          1,
          1,
          1,
          1,
          1,
          1,
          1,
          1,
          1,
          1,
          1,
          1,
          1,
          1,
          1,
          1,
          1,
          1,
          1,
          1,
          1,
          1,
          1,
          1,
          1,
          1,
          1,
          1,
          1,
          1,
          1,
          1,
          1,
          1,
          1,
          1,
          1,
          1,
          1,
          1,
          1,
          1,
          1,
          1,
          1,
          1,
          1,
          1,
          1,
          1,
          1,
          1,
          1,
          1,
          1,
          1,
          1,
          1,
          1,
          1,
          1,
          1,
          1,
          1,
          1,
          1,
          1,
          1,
          1,
          1,
          1,
          1,
          1,
          1,
          1,
          1,
          1,
          1,
          1,
          1,
          1,
          1,
          1,
          1,
          1,
          1,
          1,
          1,
          1,
          1,
          1,
          1,
          1,
          1,
          1,
          1,
          1,
          1,
          1,
          1,
          1,
          1,
          1,
          1,
          1,
          1,
          1,
          1,
          1,
          1,
          1,
          1,
          1,
          1,
          1,
          1,
          1,
          1,
          1,
          1,
          1,
          1,
          1,
          1,
          1,
          1,
          1,
          1,
          1,
          1,
          1,
          1,
          1,
          1,
          1,
          1,
          1,
          1,
          1,
          1,
          1,
          1,
          1,
          1,
          1,
          1,
          1,
          1
         ]
        }
       ],
       "layout": {
        "barmode": "group",
        "template": {
         "data": {
          "bar": [
           {
            "error_x": {
             "color": "#2a3f5f"
            },
            "error_y": {
             "color": "#2a3f5f"
            },
            "marker": {
             "line": {
              "color": "#E5ECF6",
              "width": 0.5
             },
             "pattern": {
              "fillmode": "overlay",
              "size": 10,
              "solidity": 0.2
             }
            },
            "type": "bar"
           }
          ],
          "barpolar": [
           {
            "marker": {
             "line": {
              "color": "#E5ECF6",
              "width": 0.5
             },
             "pattern": {
              "fillmode": "overlay",
              "size": 10,
              "solidity": 0.2
             }
            },
            "type": "barpolar"
           }
          ],
          "carpet": [
           {
            "aaxis": {
             "endlinecolor": "#2a3f5f",
             "gridcolor": "white",
             "linecolor": "white",
             "minorgridcolor": "white",
             "startlinecolor": "#2a3f5f"
            },
            "baxis": {
             "endlinecolor": "#2a3f5f",
             "gridcolor": "white",
             "linecolor": "white",
             "minorgridcolor": "white",
             "startlinecolor": "#2a3f5f"
            },
            "type": "carpet"
           }
          ],
          "choropleth": [
           {
            "colorbar": {
             "outlinewidth": 0,
             "ticks": ""
            },
            "type": "choropleth"
           }
          ],
          "contour": [
           {
            "colorbar": {
             "outlinewidth": 0,
             "ticks": ""
            },
            "colorscale": [
             [
              0,
              "#0d0887"
             ],
             [
              0.1111111111111111,
              "#46039f"
             ],
             [
              0.2222222222222222,
              "#7201a8"
             ],
             [
              0.3333333333333333,
              "#9c179e"
             ],
             [
              0.4444444444444444,
              "#bd3786"
             ],
             [
              0.5555555555555556,
              "#d8576b"
             ],
             [
              0.6666666666666666,
              "#ed7953"
             ],
             [
              0.7777777777777778,
              "#fb9f3a"
             ],
             [
              0.8888888888888888,
              "#fdca26"
             ],
             [
              1,
              "#f0f921"
             ]
            ],
            "type": "contour"
           }
          ],
          "contourcarpet": [
           {
            "colorbar": {
             "outlinewidth": 0,
             "ticks": ""
            },
            "type": "contourcarpet"
           }
          ],
          "heatmap": [
           {
            "colorbar": {
             "outlinewidth": 0,
             "ticks": ""
            },
            "colorscale": [
             [
              0,
              "#0d0887"
             ],
             [
              0.1111111111111111,
              "#46039f"
             ],
             [
              0.2222222222222222,
              "#7201a8"
             ],
             [
              0.3333333333333333,
              "#9c179e"
             ],
             [
              0.4444444444444444,
              "#bd3786"
             ],
             [
              0.5555555555555556,
              "#d8576b"
             ],
             [
              0.6666666666666666,
              "#ed7953"
             ],
             [
              0.7777777777777778,
              "#fb9f3a"
             ],
             [
              0.8888888888888888,
              "#fdca26"
             ],
             [
              1,
              "#f0f921"
             ]
            ],
            "type": "heatmap"
           }
          ],
          "heatmapgl": [
           {
            "colorbar": {
             "outlinewidth": 0,
             "ticks": ""
            },
            "colorscale": [
             [
              0,
              "#0d0887"
             ],
             [
              0.1111111111111111,
              "#46039f"
             ],
             [
              0.2222222222222222,
              "#7201a8"
             ],
             [
              0.3333333333333333,
              "#9c179e"
             ],
             [
              0.4444444444444444,
              "#bd3786"
             ],
             [
              0.5555555555555556,
              "#d8576b"
             ],
             [
              0.6666666666666666,
              "#ed7953"
             ],
             [
              0.7777777777777778,
              "#fb9f3a"
             ],
             [
              0.8888888888888888,
              "#fdca26"
             ],
             [
              1,
              "#f0f921"
             ]
            ],
            "type": "heatmapgl"
           }
          ],
          "histogram": [
           {
            "marker": {
             "pattern": {
              "fillmode": "overlay",
              "size": 10,
              "solidity": 0.2
             }
            },
            "type": "histogram"
           }
          ],
          "histogram2d": [
           {
            "colorbar": {
             "outlinewidth": 0,
             "ticks": ""
            },
            "colorscale": [
             [
              0,
              "#0d0887"
             ],
             [
              0.1111111111111111,
              "#46039f"
             ],
             [
              0.2222222222222222,
              "#7201a8"
             ],
             [
              0.3333333333333333,
              "#9c179e"
             ],
             [
              0.4444444444444444,
              "#bd3786"
             ],
             [
              0.5555555555555556,
              "#d8576b"
             ],
             [
              0.6666666666666666,
              "#ed7953"
             ],
             [
              0.7777777777777778,
              "#fb9f3a"
             ],
             [
              0.8888888888888888,
              "#fdca26"
             ],
             [
              1,
              "#f0f921"
             ]
            ],
            "type": "histogram2d"
           }
          ],
          "histogram2dcontour": [
           {
            "colorbar": {
             "outlinewidth": 0,
             "ticks": ""
            },
            "colorscale": [
             [
              0,
              "#0d0887"
             ],
             [
              0.1111111111111111,
              "#46039f"
             ],
             [
              0.2222222222222222,
              "#7201a8"
             ],
             [
              0.3333333333333333,
              "#9c179e"
             ],
             [
              0.4444444444444444,
              "#bd3786"
             ],
             [
              0.5555555555555556,
              "#d8576b"
             ],
             [
              0.6666666666666666,
              "#ed7953"
             ],
             [
              0.7777777777777778,
              "#fb9f3a"
             ],
             [
              0.8888888888888888,
              "#fdca26"
             ],
             [
              1,
              "#f0f921"
             ]
            ],
            "type": "histogram2dcontour"
           }
          ],
          "mesh3d": [
           {
            "colorbar": {
             "outlinewidth": 0,
             "ticks": ""
            },
            "type": "mesh3d"
           }
          ],
          "parcoords": [
           {
            "line": {
             "colorbar": {
              "outlinewidth": 0,
              "ticks": ""
             }
            },
            "type": "parcoords"
           }
          ],
          "pie": [
           {
            "automargin": true,
            "type": "pie"
           }
          ],
          "scatter": [
           {
            "marker": {
             "colorbar": {
              "outlinewidth": 0,
              "ticks": ""
             }
            },
            "type": "scatter"
           }
          ],
          "scatter3d": [
           {
            "line": {
             "colorbar": {
              "outlinewidth": 0,
              "ticks": ""
             }
            },
            "marker": {
             "colorbar": {
              "outlinewidth": 0,
              "ticks": ""
             }
            },
            "type": "scatter3d"
           }
          ],
          "scattercarpet": [
           {
            "marker": {
             "colorbar": {
              "outlinewidth": 0,
              "ticks": ""
             }
            },
            "type": "scattercarpet"
           }
          ],
          "scattergeo": [
           {
            "marker": {
             "colorbar": {
              "outlinewidth": 0,
              "ticks": ""
             }
            },
            "type": "scattergeo"
           }
          ],
          "scattergl": [
           {
            "marker": {
             "colorbar": {
              "outlinewidth": 0,
              "ticks": ""
             }
            },
            "type": "scattergl"
           }
          ],
          "scattermapbox": [
           {
            "marker": {
             "colorbar": {
              "outlinewidth": 0,
              "ticks": ""
             }
            },
            "type": "scattermapbox"
           }
          ],
          "scatterpolar": [
           {
            "marker": {
             "colorbar": {
              "outlinewidth": 0,
              "ticks": ""
             }
            },
            "type": "scatterpolar"
           }
          ],
          "scatterpolargl": [
           {
            "marker": {
             "colorbar": {
              "outlinewidth": 0,
              "ticks": ""
             }
            },
            "type": "scatterpolargl"
           }
          ],
          "scatterternary": [
           {
            "marker": {
             "colorbar": {
              "outlinewidth": 0,
              "ticks": ""
             }
            },
            "type": "scatterternary"
           }
          ],
          "surface": [
           {
            "colorbar": {
             "outlinewidth": 0,
             "ticks": ""
            },
            "colorscale": [
             [
              0,
              "#0d0887"
             ],
             [
              0.1111111111111111,
              "#46039f"
             ],
             [
              0.2222222222222222,
              "#7201a8"
             ],
             [
              0.3333333333333333,
              "#9c179e"
             ],
             [
              0.4444444444444444,
              "#bd3786"
             ],
             [
              0.5555555555555556,
              "#d8576b"
             ],
             [
              0.6666666666666666,
              "#ed7953"
             ],
             [
              0.7777777777777778,
              "#fb9f3a"
             ],
             [
              0.8888888888888888,
              "#fdca26"
             ],
             [
              1,
              "#f0f921"
             ]
            ],
            "type": "surface"
           }
          ],
          "table": [
           {
            "cells": {
             "fill": {
              "color": "#EBF0F8"
             },
             "line": {
              "color": "white"
             }
            },
            "header": {
             "fill": {
              "color": "#C8D4E3"
             },
             "line": {
              "color": "white"
             }
            },
            "type": "table"
           }
          ]
         },
         "layout": {
          "annotationdefaults": {
           "arrowcolor": "#2a3f5f",
           "arrowhead": 0,
           "arrowwidth": 1
          },
          "autotypenumbers": "strict",
          "coloraxis": {
           "colorbar": {
            "outlinewidth": 0,
            "ticks": ""
           }
          },
          "colorscale": {
           "diverging": [
            [
             0,
             "#8e0152"
            ],
            [
             0.1,
             "#c51b7d"
            ],
            [
             0.2,
             "#de77ae"
            ],
            [
             0.3,
             "#f1b6da"
            ],
            [
             0.4,
             "#fde0ef"
            ],
            [
             0.5,
             "#f7f7f7"
            ],
            [
             0.6,
             "#e6f5d0"
            ],
            [
             0.7,
             "#b8e186"
            ],
            [
             0.8,
             "#7fbc41"
            ],
            [
             0.9,
             "#4d9221"
            ],
            [
             1,
             "#276419"
            ]
           ],
           "sequential": [
            [
             0,
             "#0d0887"
            ],
            [
             0.1111111111111111,
             "#46039f"
            ],
            [
             0.2222222222222222,
             "#7201a8"
            ],
            [
             0.3333333333333333,
             "#9c179e"
            ],
            [
             0.4444444444444444,
             "#bd3786"
            ],
            [
             0.5555555555555556,
             "#d8576b"
            ],
            [
             0.6666666666666666,
             "#ed7953"
            ],
            [
             0.7777777777777778,
             "#fb9f3a"
            ],
            [
             0.8888888888888888,
             "#fdca26"
            ],
            [
             1,
             "#f0f921"
            ]
           ],
           "sequentialminus": [
            [
             0,
             "#0d0887"
            ],
            [
             0.1111111111111111,
             "#46039f"
            ],
            [
             0.2222222222222222,
             "#7201a8"
            ],
            [
             0.3333333333333333,
             "#9c179e"
            ],
            [
             0.4444444444444444,
             "#bd3786"
            ],
            [
             0.5555555555555556,
             "#d8576b"
            ],
            [
             0.6666666666666666,
             "#ed7953"
            ],
            [
             0.7777777777777778,
             "#fb9f3a"
            ],
            [
             0.8888888888888888,
             "#fdca26"
            ],
            [
             1,
             "#f0f921"
            ]
           ]
          },
          "colorway": [
           "#636efa",
           "#EF553B",
           "#00cc96",
           "#ab63fa",
           "#FFA15A",
           "#19d3f3",
           "#FF6692",
           "#B6E880",
           "#FF97FF",
           "#FECB52"
          ],
          "font": {
           "color": "#2a3f5f"
          },
          "geo": {
           "bgcolor": "white",
           "lakecolor": "white",
           "landcolor": "#E5ECF6",
           "showlakes": true,
           "showland": true,
           "subunitcolor": "white"
          },
          "hoverlabel": {
           "align": "left"
          },
          "hovermode": "closest",
          "mapbox": {
           "style": "light"
          },
          "paper_bgcolor": "white",
          "plot_bgcolor": "#E5ECF6",
          "polar": {
           "angularaxis": {
            "gridcolor": "white",
            "linecolor": "white",
            "ticks": ""
           },
           "bgcolor": "#E5ECF6",
           "radialaxis": {
            "gridcolor": "white",
            "linecolor": "white",
            "ticks": ""
           }
          },
          "scene": {
           "xaxis": {
            "backgroundcolor": "#E5ECF6",
            "gridcolor": "white",
            "gridwidth": 2,
            "linecolor": "white",
            "showbackground": true,
            "ticks": "",
            "zerolinecolor": "white"
           },
           "yaxis": {
            "backgroundcolor": "#E5ECF6",
            "gridcolor": "white",
            "gridwidth": 2,
            "linecolor": "white",
            "showbackground": true,
            "ticks": "",
            "zerolinecolor": "white"
           },
           "zaxis": {
            "backgroundcolor": "#E5ECF6",
            "gridcolor": "white",
            "gridwidth": 2,
            "linecolor": "white",
            "showbackground": true,
            "ticks": "",
            "zerolinecolor": "white"
           }
          },
          "shapedefaults": {
           "line": {
            "color": "#2a3f5f"
           }
          },
          "ternary": {
           "aaxis": {
            "gridcolor": "white",
            "linecolor": "white",
            "ticks": ""
           },
           "baxis": {
            "gridcolor": "white",
            "linecolor": "white",
            "ticks": ""
           },
           "bgcolor": "#E5ECF6",
           "caxis": {
            "gridcolor": "white",
            "linecolor": "white",
            "ticks": ""
           }
          },
          "title": {
           "x": 0.05
          },
          "xaxis": {
           "automargin": true,
           "gridcolor": "white",
           "linecolor": "white",
           "ticks": "",
           "title": {
            "standoff": 15
           },
           "zerolinecolor": "white",
           "zerolinewidth": 2
          },
          "yaxis": {
           "automargin": true,
           "gridcolor": "white",
           "linecolor": "white",
           "ticks": "",
           "title": {
            "standoff": 15
           },
           "zerolinecolor": "white",
           "zerolinewidth": 2
          }
         }
        },
        "xaxis": {
         "tickangle": -45
        }
       }
      }
     },
     "metadata": {},
     "output_type": "display_data"
    }
   ],
   "source": [
    "df = df_backup.copy()\n",
    "\n",
    "for ner_type in ['ORGs', 'PERs', 'LOCs', 'NOUs']:\n",
    "    df[ner_type] = df['ners'].apply(lambda x: x[ner_type])\n",
    "\n",
    "# lemmatize NERs\n",
    "for ner_type in ['ORGs', 'PERs', 'LOCs', 'NOUs']:\n",
    "    df[ner_type] = df[ner_type].apply(lambda x: [lemmatizer.lemmatize(_) for _ in x][0][0] if x else None)\n",
    "\n",
    "ner_org_counts = df['ORGs'].explode().value_counts()\n",
    "ner_loc_counts = df['LOCs'].explode().value_counts()\n",
    "ner_per_counts = df['PERs'].explode().value_counts()\n",
    "ner_nou_counts = df['NOUs'].explode().value_counts()\n",
    "\n",
    "\n",
    "\n",
    "# Build plot\n",
    "import plotly.express as px\n",
    "import plotly.graph_objects as go\n",
    "\n",
    "fig = go.Figure()\n",
    "fig.add_trace(go.Bar(\n",
    "    x=ner_org_counts.index,\n",
    "    y=ner_org_counts.values,\n",
    "    name='Организации',\n",
    "    marker_color='rgb(55, 83, 109)'\n",
    "))\n",
    "fig.add_trace(go.Bar(\n",
    "    x=ner_loc_counts.index,\n",
    "    y=ner_loc_counts.values,\n",
    "    name='Локации',\n",
    "    marker_color='rgb(26, 118, 255)'\n",
    "))\n",
    "fig.add_trace(go.Bar(\n",
    "    x=ner_per_counts.index,\n",
    "    y=ner_per_counts.values,\n",
    "    name='Люди',\n",
    "    marker_color='rgb(26, 255, 255)'\n",
    "))\n",
    "fig.add_trace(go.Bar(\n",
    "    x=ner_nou_counts.index,\n",
    "    y=ner_nou_counts.values,\n",
    "    name='Существительные',\n",
    "    marker_color='rgb(26, 255, 26)'\n",
    "))\n",
    "\n",
    "# Here we modify the tickangle of the xaxis, resulting in rotated labels.\n",
    "fig.update_layout(barmode='group', xaxis_tickangle=-45)\n",
    "fig.show()"
   ]
  },
  {
   "cell_type": "markdown",
   "metadata": {},
   "source": [
    "# prod"
   ]
  },
  {
   "cell_type": "code",
   "execution_count": 7,
   "metadata": {},
   "outputs": [],
   "source": [
    "from navec import Navec\n",
    "from slovnet import NER\n",
    "from natasha import (\n",
    "    Segmenter,\n",
    "    MorphVocab,\n",
    "\n",
    "    NewsEmbedding,\n",
    "    NewsMorphTagger,\n",
    "    NewsSyntaxParser,\n",
    "    NewsNERTagger,\n",
    "\n",
    "    PER,\n",
    "    NamesExtractor,\n",
    "\n",
    "    Doc\n",
    ")\n",
    "\n",
    "class NERParser:\n",
    "    def __init__(self, navec_weights: str, ner_weights: str) -> None:\n",
    "        self.navec = Navec.load(navec_weights)\n",
    "        self.ner = NER.load(ner_weights)\n",
    "        self.ner.navec(self.navec)\n",
    "        self.emb = NewsEmbedding()\n",
    "        self.morph_tagger = NewsMorphTagger(self.emb)\n",
    "        self.segmenter = Segmenter()\n",
    "\n",
    "    def get_ners_dict(self, text: str) -> dict:\n",
    "        \"\"\" Returns a dictionary of named entities in a text\n",
    "            Args:\n",
    "                text (str): text to parse\n",
    "                ner_model (slovnet.NER): ner model\n",
    "\n",
    "            Returns:\n",
    "                dict: dictionary of named entities in a text\n",
    "            \"\"\"\n",
    "            # Use this function with pandarallel's parallel_apply\n",
    "        if not text:\n",
    "            return {'ORGs': [], 'PERs': [], 'LOCs': [], 'NOUs': []}\n",
    "        markup = self.ner(text)\n",
    "        ORGS, PERS, LOCS = [], [], []\n",
    "        for span in markup.spans:\n",
    "            span_text = markup.text[span.start:span.stop]\n",
    "            {\n",
    "                'ORG': ORGS,\n",
    "                'PER': PERS,\n",
    "                'LOC': LOCS,\n",
    "\n",
    "            }[span.type].append(span_text)\n",
    "            # print(span.type, span_text)\n",
    "        # Получить существительные из текста\n",
    "        doc = Doc(text)\n",
    "        doc.segment(self.segmenter)\n",
    "        doc.tag_morph(self.morph_tagger)\n",
    "        nouns = [_.text for _ in doc.tokens if _.pos == 'NOUN']\n",
    "        # print(nouns)\n",
    "        return {'ORGs': ORGS if ORGS else [], 'PERs': PERS if PERS else [], 'LOCs': LOCS if LOCS else [], 'NOUs': nouns}\n",
    "\n",
    "\n"
   ]
  },
  {
   "cell_type": "code",
   "execution_count": 8,
   "metadata": {},
   "outputs": [],
   "source": [
    "# Russian lemmatisation example\n",
    "# coding: utf-8\n",
    "\n",
    "from navec import Navec\n",
    "from slovnet import Morph\n",
    "from natasha import (\n",
    "    Segmenter,\n",
    "    MorphVocab,\n",
    "\n",
    "    NewsEmbedding,\n",
    "    NewsMorphTagger,\n",
    "    NewsSyntaxParser,\n",
    "    NewsNERTagger,\n",
    "\n",
    "    PER,\n",
    "    NamesExtractor,\n",
    "\n",
    "    Doc\n",
    ")\n",
    "\n",
    "class Lemmatizer:\n",
    "    def __init__(self) -> None:\n",
    "        self.segmenter = Segmenter()\n",
    "        self.morph_vocab = MorphVocab()\n",
    "        self.emb = NewsEmbedding()\n",
    "        self.morph_tagger = NewsMorphTagger(self.emb)\n",
    "\n",
    "\n",
    "    def lemmatize(self, text: str) -> list[str]:\n",
    "        \"\"\" Lemmatizes a text\n",
    "        Args:\n",
    "            text (str): text to lemmatize\n",
    "\n",
    "        Returns:\n",
    "            list[str]: list of lemmas\n",
    "        \"\"\"\n",
    "        # Use this function with pandarallel's parallel_apply\n",
    "        doc = Doc(text)\n",
    "        doc.segment(self.segmenter)\n",
    "        doc.tag_morph(self.morph_tagger)\n",
    "        for token in doc.tokens:\n",
    "            token.lemmatize(self.morph_vocab)\n",
    "        return [_.lemma for _ in doc.tokens]"
   ]
  },
  {
   "cell_type": "code",
   "execution_count": 9,
   "metadata": {},
   "outputs": [],
   "source": [
    "import feedparser\n",
    "\n",
    "# SOURCES = {\n",
    "#     # Habr\n",
    "#     # 'habr': 'https://habr.com/ru/rss/all/all/?fl=ru',\n",
    "\n",
    "#     # Rubase\n",
    "#     ## By companies\n",
    "#     # 'rb_chance': \"https://rb.ru/feeds/tag/chance/\",\n",
    "#     # 'rb_vk': \"https://rb.ru/feeds/tag/vk/\",\n",
    "#     'rb_rvc': \"https://rb.ru/feeds/tag/rvc/\",\n",
    "#     # 'rb_yandex': \"https://rb.ru/feeds/tag/yandex/\",\n",
    "#     'rb_skolkovo': \"https://rb.ru/feeds/tag/skolkovo/\",\n",
    "#     # 'rb_facebook': \"https://rb.ru/feeds/tag/facebook/\",\n",
    "#     'rb_mailru': \"https://rb.ru/feeds/tag/mailru/\",\n",
    "#     # 'rb_microsoft': \"https://rb.ru/feeds/tag/microsoft/\",\n",
    "\n",
    "#     ## By topics\n",
    "#     'rb_advertising': \"https://rb.ru/feeds/tag/advertising/\",\n",
    "#     # 'rb_robotics': \"https://rb.ru/feeds/tag/robotics/\",\n",
    "#     # 'rb_it': \"https://rb.ru/feeds/tag/it/\",\n",
    "#     # 'rb_bigdata': \"https://rb.ru/feeds/tag/bigdata/\",\n",
    "#     'rb_china': \"https://rb.ru/feeds/tag/china/\",\n",
    "#     'rb_finance': \"https://rb.ru/feeds/tag/fintech/\",\n",
    "#     # 'rb_cloud': \"https://rb.ru/feeds/tag/cloud/\",\n",
    "\n",
    "#     # Vedomosti\n",
    "#     # 'vd_business': \"https://www.vedomosti.ru/rss/rubric/business\",\n",
    "#     # 'vd_it_business': \"https://www.vedomosti.ru/rss/rubric/it_business\",\n",
    "#     # 'vd_finance': \"https://www.vedomosti.ru/rss/rubric/finance\",\n",
    "#     # 'vd_opinion': \"https://www.vedomosti.ru/rss/rubric/opinion\",\n",
    "#     # 'vd_analytics': \"https://www.vedomosti.ru/rss/rubric/opinion/analytics\",\n",
    "\n",
    "\n",
    "#     # RT\n",
    "#     # 'rt': \"https://russian.rt.com/rss/\",\n",
    "# }\n",
    "\n",
    "\n",
    "SOURCES = {\n",
    "    # \"rt\": \"https://russian.rt.com/rss\",\n",
    "    \"vd\": \"https://www.vedomosti.ru/rss/news\",\n",
    "\n",
    "    # for buhgalter\n",
    "    \"buh\": \"https://buh.ru/rss/?chanel=news\",\n",
    "    \"klerk\": \"https://www.klerk.ru/export/news.rss\",\n",
    "    \"audit-it\": \"http://www.audit-it.ru/rss/news_all.xml\",\n",
    "    # \"rb\": \"https://rb.ru/feeds/all/\",\n",
    "\n",
    "    # for business owner\n",
    "    # \"rb\": \"https://rb.ru/feeds/all/\",\n",
    "    \"rb_pr\": \"https://rb.ru/feeds/tag/pr/\",\n",
    "    \"rb_finance\": \"https://rb.ru/feeds/tag/fintech/\",\n",
    "    \"rb_hr\": \"https://rb.ru/feeds/tag/hr/\",\n",
    "    \"rb_crypto\": \"https://rb.ru/feeds/tag/crypto/\",\n",
    "    \"rb_marketing\": \"https://rb.ru/feeds/tag/marketing/\",\n",
    "    \"rmblr_finance\": \"https://finance.rambler.ru/rss/economics/\",\n",
    "    \"rmblr_business\": \"https://finance.rambler.ru/rss/business/\",\n",
    "    \"rmblr_markets\": \"https://finance.rambler.ru/rss/markets/\",\n",
    "}\n",
    "\n",
    "rb_topics = {\n",
    "    \"rb_pr\":\"PR\",\n",
    "    \"rb_finance\":\"Финансы\",\n",
    "    \"rb_hr\":\"HR\",\n",
    "    \"rb_crypto\":\"Криптовалюты\",\n",
    "    \"rb_marketing\":\"Маркетинг\",\n",
    "}\n",
    "\n",
    "class RSSParser:\n",
    "    def __init__(self, sources: dict[str,str]):\n",
    "        self.sources = sources\n",
    "\n",
    "    def fetch_entries(self) -> list[dict]:\n",
    "        entries = []\n",
    "        for source, url in self.sources.items():\n",
    "            feed = feedparser.parse(url)\n",
    "            # If there is no tags for entries, skip source and print warning\n",
    "            if not feed['entries'][0].get('tags') and source not in rb_topics:\n",
    "                print(f\"Warning: No tags for source {source}\")\n",
    "                continue\n",
    "\n",
    "            for entry in feed['entries']:\n",
    "                entry['source'] = source\n",
    "                entries.append(entry)\n",
    "        return entries\n",
    "\n",
    "    def standardize_general(self, entry: dict) -> dict:\n",
    "        \"\"\" Turns entry to a standardized format\n",
    "\n",
    "        Args:\n",
    "            entry (dict): entry from feedparser\n",
    "\n",
    "        Returns:\n",
    "            dict: standardized entry in a format:\n",
    "        {\n",
    "            'source': str,\n",
    "            'title': str,\n",
    "            'url':  str,\n",
    "            'date': timestamp with zone,\n",
    "            'tags': list[str],\n",
    "            'text': str,\n",
    "        }\n",
    "        \"\"\"\n",
    "        entry =  {\n",
    "            'source': entry['source'],\n",
    "            'title': entry['title'].replace('\\n', ' ').replace('\\r', ' ').replace('\\t', ' ').strip(),\n",
    "            'url':  entry['link'],\n",
    "            'date': entry['published_parsed'],\n",
    "            'tags': [tag['term'] for tag in entry['tags']] if 'tags' in entry else [rb_topics[entry['source']]] if entry['source'] in rb_topics else [],\n",
    "            'text': entry['summary'] if 'summary' in entry else '',\n",
    "        }\n",
    "        # pprint(entry)\n",
    "\n",
    "        return entry\n",
    "\n",
    "    def get_last_standardized_news(self) -> list[dict]:\n",
    "        entries = self.fetch_entries()\n",
    "        return [self.standardize_general(entry) for entry in entries]"
   ]
  },
  {
   "cell_type": "code",
   "execution_count": 11,
   "metadata": {},
   "outputs": [],
   "source": [
    "def make_lemmatize(lemmatizer: Lemmatizer):\n",
    "    def lemmatize_word(word: str) -> str:\n",
    "        # Название в два слова должно остаться названием в два слова\n",
    "        if len(word.split(' ')) > 1:\n",
    "            return ' '.join([ lemmatizer.lemmatize(word)[0] for word in word.split(' ') ])\n",
    "        else:\n",
    "            return lemmatizer.lemmatize(word)[0]\n",
    "\n",
    "    return lemmatize_word\n",
    "\n",
    "\n",
    "\n",
    "# def get_trends(news_: pd.DataFrame, ner: NERParser, lemmatizer: Lemmatizer) -> pd.DataFrame:\n",
    "def get_trends(news_: list[dict[str,str]], ner: NERParser, lemmatizer: Lemmatizer, convert_to_df: bool = True) -> list[dict[str, int]]:\n",
    "    \"\"\" Get trends from news\"\"\"\n",
    "    news = news_.copy()\n",
    "    if convert_to_df:\n",
    "        news = sorted(news, key=lambda x: x['date'], reverse=True)\n",
    "        news = pd.DataFrame(news)\n",
    "\n",
    "    # 1. Get NERs and nouns\n",
    "    news['ners'] = news['text'].apply(ner.get_ners_dict)\n",
    "\n",
    "    # 2. Split extracted words\n",
    "    for ner_type in ['ORGs', 'PERs', 'LOCs', 'NOUs']:\n",
    "        news[ner_type] = news['ners'].apply(lambda x: x[ner_type])\n",
    "\n",
    "    # 3. Lemmatize extracted words\n",
    "    lemmatize_word = make_lemmatize(lemmatizer)\n",
    "    for ner_type in ['ORGs', 'PERs', 'LOCs', 'NOUs']:\n",
    "        news[ner_type] = news[ner_type].apply(lambda x: [lemmatize_word(word) for word in x])\n",
    "\n",
    "    # 4. Get trends\n",
    "    trends = []\n",
    "\n",
    "    for ner_type in ['ORGs', 'PERs', 'LOCs', 'NOUs']:\n",
    "        trends.append(\n",
    "            news[ner_type].explode().value_counts().to_dict()\n",
    "        )\n",
    "\n",
    "    return trends\n",
    "\n",
    "\n",
    "def get_trends_by_tag(news_: list[dict[str,str]], tags:list[str],  ner: NERParser, lemmatizer: Lemmatizer):\n",
    "    \"\"\" Get trends from news\"\"\"\n",
    "    news = news_.copy()\n",
    "    news = sorted(news, key=lambda x: x['date'], reverse=True)\n",
    "    news = pd.DataFrame(news)\n",
    "\n",
    "    # 0. Filter by tags\n",
    "    news = news[news['tags'].apply(lambda x: len(set(x) & set(tags)) > 0)]\n",
    "\n",
    "    # 1. Pass df to get_trends\n",
    "    return get_trends(news, ner, lemmatizer, convert_to_df=False)\n",
    "\n",
    "\n",
    "# Load models\n",
    "parser = RSSParser(SOURCES)\n",
    "lemmatizer = Lemmatizer()\n",
    "ner = NERParser(\n",
    "    r\"S:\\Workspace\\MORETECH\\nlp-workbench\\models\\navec_news_v1_1B_250K_300d_100q.tar\",\n",
    "    r\"S:\\Workspace\\MORETECH\\nlp-workbench\\models\\slovnet_ner_news_v1.tar\",\n",
    ")\n",
    "\n",
    "news = []\n",
    "news = parser.get_last_standardized_news()"
   ]
  },
  {
   "cell_type": "code",
   "execution_count": 5,
   "metadata": {},
   "outputs": [
    {
     "name": "stdout",
     "output_type": "stream",
     "text": [
      "info: GetTrends start...\n"
     ]
    },
    {
     "ename": "NameError",
     "evalue": "name 'ner' is not defined",
     "output_type": "error",
     "traceback": [
      "\u001b[1;31m---------------------------------------------------------------------------\u001b[0m",
      "\u001b[1;31mNameError\u001b[0m                                 Traceback (most recent call last)",
      "\u001b[1;32ms:\\Workspace\\MORETECH\\nlp-workbench\\notebooks\\TIS_defining_whats_in_trend.ipynb Cell 19\u001b[0m in \u001b[0;36m<cell line: 3>\u001b[1;34m()\u001b[0m\n\u001b[0;32m      <a href='vscode-notebook-cell:/s%3A/Workspace/MORETECH/nlp-workbench/notebooks/TIS_defining_whats_in_trend.ipynb#X34sZmlsZQ%3D%3D?line=0'>1</a>\u001b[0m \u001b[39m# plot general trends\u001b[39;00m\n\u001b[0;32m      <a href='vscode-notebook-cell:/s%3A/Workspace/MORETECH/nlp-workbench/notebooks/TIS_defining_whats_in_trend.ipynb#X34sZmlsZQ%3D%3D?line=1'>2</a>\u001b[0m \u001b[39mprint\u001b[39m(\u001b[39m\"\u001b[39m\u001b[39minfo: GetTrends start...\u001b[39m\u001b[39m\"\u001b[39m)\n\u001b[1;32m----> <a href='vscode-notebook-cell:/s%3A/Workspace/MORETECH/nlp-workbench/notebooks/TIS_defining_whats_in_trend.ipynb#X34sZmlsZQ%3D%3D?line=2'>3</a>\u001b[0m trends_general \u001b[39m=\u001b[39m get_trends(news, ner, lemmatizer)\n\u001b[0;32m      <a href='vscode-notebook-cell:/s%3A/Workspace/MORETECH/nlp-workbench/notebooks/TIS_defining_whats_in_trend.ipynb#X34sZmlsZQ%3D%3D?line=4'>5</a>\u001b[0m \u001b[39mdef\u001b[39;00m \u001b[39mplot_trends\u001b[39m(trends: \u001b[39mlist\u001b[39m[\u001b[39mdict\u001b[39m[\u001b[39mstr\u001b[39m,\u001b[39mint\u001b[39m]]):\n\u001b[0;32m      <a href='vscode-notebook-cell:/s%3A/Workspace/MORETECH/nlp-workbench/notebooks/TIS_defining_whats_in_trend.ipynb#X34sZmlsZQ%3D%3D?line=5'>6</a>\u001b[0m     \u001b[39mimport\u001b[39;00m \u001b[39mmatplotlib\u001b[39;00m\u001b[39m.\u001b[39;00m\u001b[39mpyplot\u001b[39;00m \u001b[39mas\u001b[39;00m \u001b[39mplt\u001b[39;00m\n",
      "\u001b[1;31mNameError\u001b[0m: name 'ner' is not defined"
     ]
    }
   ],
   "source": [
    "# plot general trends\n",
    "print(\"info: GetTrends start...\")\n",
    "trends_general = get_trends(news, ner, lemmatizer)\n",
    "\n",
    "def plot_trends(trends: list[dict[str,int]]):\n",
    "    import matplotlib.pyplot as plt\n",
    "    for ner_type, trend in zip(['ORGs', 'PERs', 'LOCs', 'NOUs'], trends):\n",
    "        plt.figure(figsize=(20, 5))\n",
    "        plt.title(ner_type)\n",
    "        plt.bar(list(trend.keys())[:20], list(trend.values())[:20])\n",
    "        plt.xticks(rotation=-45)\n",
    "        plt.show()\n",
    "\n",
    "plot_trends(trends_general)"
   ]
  },
  {
   "cell_type": "code",
   "execution_count": 226,
   "metadata": {},
   "outputs": [],
   "source": [
    "# list for gendir\n",
    "gen_tags =  ['Финансы', 'Экономика', 'Маркетинг', 'PR', 'HR',  'Компании', 'Рынки', 'Бизнес', 'Технологии', 'Автоматизация', 'Мобилизация',  'Работодателю', 'Кредитование', 'Инвестиции', 'Санкции 2022',  'Общее', 'Карьера',  'Экономика России', 'IT-компании',  'Налоги, взносы, пошлины',  'Мошенничество', 'Экономические преступления']\n",
    "\n",
    "# list for buhgalter\n",
    "buh_tags = ['Финансы', 'Экономика',  'Криптовалюты', 'Учет и налогообложение', 'Бизнес', 'Бухгалтеру',  'Вебинары для бухгалтеров', 'Банкротство', 'Кредитование', 'Банки',  'Трудовое право', 'Экономика России',  'Электронные трудовые книжки', 'ЕГАИС', 'Налоги, взносы, пошлины', 'ЭДО', 'НДФЛ', 'АУСН', 'Перевозка', 'Отчетность в ПФР', 'Мошенничество', 'Первичные документы', 'Экономические преступления', 'ПСН', 'Онлайн-кассы']"
   ]
  },
  {
   "cell_type": "code",
   "execution_count": 227,
   "metadata": {},
   "outputs": [
    {
     "name": "stdout",
     "output_type": "stream",
     "text": [
      "info: GetTrends start...\n"
     ]
    },
    {
     "data": {
      "image/png": "[encoded data removed]",
      "text/plain": [
       "<Figure size 1440x360 with 1 Axes>"
      ]
     },
     "metadata": {
      "needs_background": "light"
     },
     "output_type": "display_data"
    },
    {
     "data": {
      "image/png": "[encoded data removed]",
      "text/plain": [
       "<Figure size 1440x360 with 1 Axes>"
      ]
     },
     "metadata": {
      "needs_background": "light"
     },
     "output_type": "display_data"
    },
    {
     "data": {
      "image/png": "[encoded data removed]",
      "text/plain": [
       "<Figure size 1440x360 with 1 Axes>"
      ]
     },
     "metadata": {
      "needs_background": "light"
     },
     "output_type": "display_data"
    },
    {
     "data": {
      "image/png": "[encoded data removed]",
      "text/plain": [
       "<Figure size 1440x360 with 1 Axes>"
      ]
     },
     "metadata": {
      "needs_background": "light"
     },
     "output_type": "display_data"
    }
   ],
   "source": [
    "# plot trends for gen\n",
    "print(\"info: GetTrends start...\")\n",
    "trends_gen = get_trends_by_tag(news, gen_tags, ner, lemmatizer)\n",
    "plot_trends(trends_gen)"
   ]
  },
  {
   "cell_type": "code",
   "execution_count": 228,
   "metadata": {},
   "outputs": [
    {
     "name": "stdout",
     "output_type": "stream",
     "text": [
      "info: GetTrends start...\n"
     ]
    },
    {
     "data": {
      "image/png": "[encoded data removed]",
      "text/plain": [
       "<Figure size 1440x360 with 1 Axes>"
      ]
     },
     "metadata": {
      "needs_background": "light"
     },
     "output_type": "display_data"
    },
    {
     "data": {
      "image/png": "[encoded data removed]",
      "text/plain": [
       "<Figure size 1440x360 with 1 Axes>"
      ]
     },
     "metadata": {
      "needs_background": "light"
     },
     "output_type": "display_data"
    },
    {
     "data": {
      "image/png": "[encoded data removed]",
      "text/plain": [
       "<Figure size 1440x360 with 1 Axes>"
      ]
     },
     "metadata": {
      "needs_background": "light"
     },
     "output_type": "display_data"
    },
    {
     "data": {
      "image/png": "[encoded data removed]",
      "text/plain": [
       "<Figure size 1440x360 with 1 Axes>"
      ]
     },
     "metadata": {
      "needs_background": "light"
     },
     "output_type": "display_data"
    }
   ],
   "source": [
    "# plot trends for buh\n",
    "print(\"info: GetTrends start...\")\n",
    "trends_buh = get_trends_by_tag(news, buh_tags, ner, lemmatizer)\n",
    "plot_trends(trends_buh)"
   ]
  }
 ],
 "metadata": {
  "kernelspec": {
   "display_name": "Python 3.9.12 ('base')",
   "language": "python",
   "name": "python3"
  },
  "language_info": {
   "codemirror_mode": {
    "name": "ipython",
    "version": 3
   },
   "file_extension": ".py",
   "mimetype": "text/x-python",
   "name": "python",
   "nbconvert_exporter": "python",
   "pygments_lexer": "ipython3",
   "version": "3.9.12"
  },
  "orig_nbformat": 4,
  "vscode": {
   "interpreter": {
    "hash": "ad2bdc8ecc057115af97d19610ffacc2b4e99fae6737bb82f5d7fb13d2f2c186"
   }
  }
 },
 "nbformat": 4,
 "nbformat_minor": 2
}

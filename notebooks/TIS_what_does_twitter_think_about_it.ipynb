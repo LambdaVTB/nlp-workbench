{
 "cells": [
  {
   "cell_type": "code",
   "execution_count": 1,
   "metadata": {},
   "outputs": [],
   "source": [
    "# Get twitter feed"
   ]
  },
  {
   "cell_type": "code",
   "execution_count": 2,
   "metadata": {},
   "outputs": [],
   "source": [
    "from bs4 import BeautifulSoup\n",
    "import requests\n",
    "import logging\n",
    "\n",
    "\n",
    "# Parser constants\n",
    "LOGGING_LEVELS = {\n",
    "    \"debug\": logging.DEBUG,\n",
    "    \"info\": logging.INFO,\n",
    "    \"warning\": logging.WARNING,\n",
    "    \"error\": logging.ERROR,\n",
    "    \"critical\": logging.CRITICAL,\n",
    "}\n",
    "\n",
    "logging.basicConfig(\n",
    "    format=\"%(asctime)s - %(name)s - %(levelname)s - %(message)s\",\n",
    "    level=LOGGING_LEVELS[\"info\"],\n",
    ")\n",
    "\n",
    "def get_html(url: str) -> str:\n",
    "    \"\"\"\n",
    "    Get html text from url\n",
    "    :param url: url\n",
    "    :return: html text\n",
    "    \"\"\"\n",
    "    try:\n",
    "        r = requests.get(url)\n",
    "        r.raise_for_status()\n",
    "        return r.text\n",
    "    except (requests.RequestException, ValueError):\n",
    "        logging.error(\"Network error\")\n",
    "        return \"\"\n"
   ]
  },
  {
   "cell_type": "code",
   "execution_count": 3,
   "metadata": {},
   "outputs": [
    {
     "name": "stderr",
     "output_type": "stream",
     "text": [
      "2022-10-08 23:19:03,934 - root - ERROR - Network error\n"
     ]
    },
    {
     "data": {
      "text/plain": [
       "[]"
      ]
     },
     "execution_count": 3,
     "metadata": {},
     "output_type": "execute_result"
    }
   ],
   "source": [
    "# twitter\n",
    "\n",
    "def get_twitter_tweets(trend: str) -> list[dict]:\n",
    "    \"\"\"\n",
    "    Get tweets from twitter\n",
    "    :param trend: trend\n",
    "    :return: list of tweets\n",
    "    \"\"\"\n",
    "    tweets = []\n",
    "    html = get_html(f\"https://twitter.com/search?q={trend}&src=typed_query&f=top\")\n",
    "    if html:\n",
    "        soup = BeautifulSoup(html, \"html.parser\")\n",
    "        tweets = []\n",
    "        tweets_html = soup.find(\"div\", {'class':'css-1dbjc4n'}).findChildren(\"div\", {'class':'css-1dbjc4n'}, recursive=False)\n",
    "        logging.info(f\"twitter: {len(tweets)} tweets found.\")\n",
    "        for item in tweets_html:\n",
    "            tweets.append(\n",
    "                {\n",
    "                    \"source\": \"twitter\",\n",
    "                    \"title\": item.find(\"div\", class_=\"css-901oao\").text.replace(\"\\n\", \"\").strip(),\n",
    "                    \"url\": item.find(\"a\", class_=\"css-4rbku5 css-18t94o4 css-901oao r-111h2gw r-1loqt21 r-1qd0xha r-a023e6 r-16dba41 r-ad9z0x r-bcqeeo r-bnwqim r-qvutc0\").get(\"href\"),\n",
    "                    \"summary\": item.find(\"p\").text.replace(\"\\xa0\", \" \").replace(\"<mark>\", \" \").replace(\"</mark>\", \" \").strip(),\n",
    "                }\n",
    "            )\n",
    "    return tweets\n",
    "\n",
    "get_twitter_tweets(\"Паша Техник\")"
   ]
  },
  {
   "cell_type": "code",
   "execution_count": 4,
   "metadata": {},
   "outputs": [
    {
     "name": "stdout",
     "output_type": "stream",
     "text": [
      "Requirement already satisfied: selenium in c:\\programdata\\anaconda3\\lib\\site-packages (4.5.0)Note: you may need to restart the kernel to use updated packages.\n",
      "\n",
      "Requirement already satisfied: certifi>=2021.10.8 in c:\\programdata\\anaconda3\\lib\\site-packages (from selenium) (2021.10.8)\n",
      "Requirement already satisfied: trio~=0.17 in c:\\programdata\\anaconda3\\lib\\site-packages (from selenium) (0.22.0)\n",
      "Requirement already satisfied: urllib3[socks]~=1.26 in c:\\programdata\\anaconda3\\lib\\site-packages (from selenium) (1.26.9)\n",
      "Requirement already satisfied: trio-websocket~=0.9 in c:\\programdata\\anaconda3\\lib\\site-packages (from selenium) (0.9.2)\n",
      "Requirement already satisfied: async-generator>=1.9 in c:\\programdata\\anaconda3\\lib\\site-packages (from trio~=0.17->selenium) (1.10)\n",
      "Requirement already satisfied: sortedcontainers in c:\\programdata\\anaconda3\\lib\\site-packages (from trio~=0.17->selenium) (2.4.0)\n",
      "Requirement already satisfied: sniffio in c:\\programdata\\anaconda3\\lib\\site-packages (from trio~=0.17->selenium) (1.2.0)\n",
      "Requirement already satisfied: outcome in c:\\programdata\\anaconda3\\lib\\site-packages (from trio~=0.17->selenium) (1.2.0)\n",
      "Requirement already satisfied: idna in c:\\programdata\\anaconda3\\lib\\site-packages (from trio~=0.17->selenium) (3.3)\n",
      "Requirement already satisfied: cffi>=1.14 in c:\\programdata\\anaconda3\\lib\\site-packages (from trio~=0.17->selenium) (1.15.0)\n",
      "Requirement already satisfied: exceptiongroup>=1.0.0rc9 in c:\\programdata\\anaconda3\\lib\\site-packages (from trio~=0.17->selenium) (1.0.0rc9)\n",
      "Requirement already satisfied: attrs>=19.2.0 in c:\\programdata\\anaconda3\\lib\\site-packages (from trio~=0.17->selenium) (21.4.0)\n",
      "Requirement already satisfied: pycparser in c:\\programdata\\anaconda3\\lib\\site-packages (from cffi>=1.14->trio~=0.17->selenium) (2.21)\n",
      "Requirement already satisfied: wsproto>=0.14 in c:\\programdata\\anaconda3\\lib\\site-packages (from trio-websocket~=0.9->selenium) (1.2.0)\n",
      "Requirement already satisfied: PySocks!=1.5.7,<2.0,>=1.5.6 in c:\\programdata\\anaconda3\\lib\\site-packages (from urllib3[socks]~=1.26->selenium) (1.7.1)\n",
      "Requirement already satisfied: h11<1,>=0.9.0 in c:\\programdata\\anaconda3\\lib\\site-packages (from wsproto>=0.14->trio-websocket~=0.9->selenium) (0.14.0)\n"
     ]
    }
   ],
   "source": [
    "%pip install selenium"
   ]
  },
  {
   "cell_type": "code",
   "execution_count": 6,
   "metadata": {},
   "outputs": [],
   "source": [
    "from selenium import webdriver\n",
    "from selenium.webdriver.common.desired_capabilities import DesiredCapabilities\n",
    "import time\n",
    "\n",
    "# ua[\"phantomjs.page.settings.userAgent\"] = (\"Mozilla/5.0 (Windows NT 10.0; Win64; x64) AppleWebKit/537.36 (KHTML, like Gecko) Chrome/54.0.2840.59 Safari/537.36\")\n",
    "browser = webdriver.Firefox()\n",
    "\n",
    "browser.set_window_size(1280, 720)\n",
    "browser.get('https://twitter.com/bigladasha')\n",
    "time.sleep(10)\n",
    "browser.save_screenshot('screen_test_twit.png')\n",
    "browser.quit()\n"
   ]
  },
  {
   "cell_type": "code",
   "execution_count": 9,
   "metadata": {},
   "outputs": [
    {
     "ename": "AttributeError",
     "evalue": "'WebDriver' object has no attribute 'find_element_by_tag_name'",
     "output_type": "error",
     "traceback": [
      "\u001b[1;31m---------------------------------------------------------------------------\u001b[0m",
      "\u001b[1;31mAttributeError\u001b[0m                            Traceback (most recent call last)",
      "\u001b[1;32ms:\\Workspace\\MORETECH\\nlp-workbench\\notebooks\\TIS_what_does_twitter_think_about_it.ipynb Cell 6\u001b[0m in \u001b[0;36m<cell line: 39>\u001b[1;34m()\u001b[0m\n\u001b[0;32m     <a href='vscode-notebook-cell:/s%3A/Workspace/MORETECH/nlp-workbench/notebooks/TIS_what_does_twitter_think_about_it.ipynb#W5sZmlsZQ%3D%3D?line=35'>36</a>\u001b[0m             \u001b[39mprint\u001b[39m (tweet\u001b[39m.\u001b[39mtext)\n\u001b[0;32m     <a href='vscode-notebook-cell:/s%3A/Workspace/MORETECH/nlp-workbench/notebooks/TIS_what_does_twitter_think_about_it.ipynb#W5sZmlsZQ%3D%3D?line=36'>37</a>\u001b[0m     \u001b[39m#Usage :- python tweet_parser.py \"http://twitter.com/<remaining_url>\"\u001b[39;00m\n\u001b[1;32m---> <a href='vscode-notebook-cell:/s%3A/Workspace/MORETECH/nlp-workbench/notebooks/TIS_what_does_twitter_think_about_it.ipynb#W5sZmlsZQ%3D%3D?line=38'>39</a>\u001b[0m parse_twitter(\u001b[39m\"\u001b[39;49m\u001b[39mbigladasha\u001b[39;49m\u001b[39m\"\u001b[39;49m)\n",
      "\u001b[1;32ms:\\Workspace\\MORETECH\\nlp-workbench\\notebooks\\TIS_what_does_twitter_think_about_it.ipynb Cell 6\u001b[0m in \u001b[0;36mparse_twitter\u001b[1;34m(twitter_handle)\u001b[0m\n\u001b[0;32m     <a href='vscode-notebook-cell:/s%3A/Workspace/MORETECH/nlp-workbench/notebooks/TIS_what_does_twitter_think_about_it.ipynb#W5sZmlsZQ%3D%3D?line=22'>23</a>\u001b[0m base_url\u001b[39m=\u001b[39m\u001b[39m\"\u001b[39m\u001b[39mhttps://twitter.com/\u001b[39m\u001b[39m\"\u001b[39m\n\u001b[0;32m     <a href='vscode-notebook-cell:/s%3A/Workspace/MORETECH/nlp-workbench/notebooks/TIS_what_does_twitter_think_about_it.ipynb#W5sZmlsZQ%3D%3D?line=23'>24</a>\u001b[0m browser\u001b[39m.\u001b[39mget(base_url)\n\u001b[1;32m---> <a href='vscode-notebook-cell:/s%3A/Workspace/MORETECH/nlp-workbench/notebooks/TIS_what_does_twitter_think_about_it.ipynb#W5sZmlsZQ%3D%3D?line=24'>25</a>\u001b[0m body\u001b[39m=\u001b[39mbrowser\u001b[39m.\u001b[39;49mfind_element_by_tag_name(\u001b[39m'\u001b[39m\u001b[39mbody\u001b[39m\u001b[39m'\u001b[39m)\n\u001b[0;32m     <a href='vscode-notebook-cell:/s%3A/Workspace/MORETECH/nlp-workbench/notebooks/TIS_what_does_twitter_think_about_it.ipynb#W5sZmlsZQ%3D%3D?line=25'>26</a>\u001b[0m wait \u001b[39m=\u001b[39m ui\u001b[39m.\u001b[39mWebDriverWait(browser, \u001b[39m0.5\u001b[39m)\n\u001b[0;32m     <a href='vscode-notebook-cell:/s%3A/Workspace/MORETECH/nlp-workbench/notebooks/TIS_what_does_twitter_think_about_it.ipynb#W5sZmlsZQ%3D%3D?line=26'>27</a>\u001b[0m \u001b[39mwhile\u001b[39;00m \u001b[39mTrue\u001b[39;00m:\n",
      "\u001b[1;31mAttributeError\u001b[0m: 'WebDriver' object has no attribute 'find_element_by_tag_name'"
     ]
    }
   ],
   "source": [
    "#Depends on selenium package for python, selenium chrome driver, google-chrome / chrome browser\n",
    "import os\n",
    "import sys\n",
    "from selenium import webdriver\n",
    "from selenium.webdriver.common.keys import Keys\n",
    "from selenium.webdriver.support import expected_conditions as EC\n",
    "import selenium.webdriver.support.ui as ui\n",
    "from selenium.webdriver.common.by import By\n",
    "\n",
    "\n",
    "def parse_twitter(twitter_handle):\n",
    "\n",
    "    #Download Chromium Driver for Selenium and place it in class path before executing this program (Link :-  https://www.seleniumhq.org/download/)\n",
    "    options=webdriver.ChromeOptions()\n",
    "\n",
    "    #Change the hoe directory to your user directory. This is used so as to bypass login restrictions.\n",
    "    #This requires user to login to twitter once so that the same login session can be used for carrying out the task\n",
    "    options.add_argument(\"--user-data-dir=C:\\\\Users\\\\user\\\\AppData\\\\Local\\\\Google\\\\Chrome\\\\User Data\")\n",
    "    # options.add_argument(\"--user-data-dir=/home/root/.config/chromium\")\n",
    "    browser = webdriver.Chrome(options=options)\n",
    "\n",
    "    #Pass the url as first argument\n",
    "    base_url=\"https://twitter.com/\"\n",
    "    browser.get(base_url)\n",
    "    body=browser.find_element_by_tag_name('body')\n",
    "    wait = ui.WebDriverWait(browser, 0.5)\n",
    "    while True:\n",
    "            try:\n",
    "                    wait.until(EC.visibility_of_element_located((By.XPATH,\"//span[contains(@class, 'Icon Icon--large Icon--logo')]\")))\n",
    "                    break\n",
    "            except:\n",
    "                    body.send_keys(Keys.END)\n",
    "\n",
    "    tweets=browser.find_elements_by_class_name('tweet-text')\n",
    "    for tweet in tweets:\n",
    "            print (tweet.text)\n",
    "    #Usage :- python tweet_parser.py \"http://twitter.com/<remaining_url>\"\n",
    "\n",
    "parse_twitter(\"bigladasha\")"
   ]
  },
  {
   "cell_type": "code",
   "execution_count": null,
   "metadata": {},
   "outputs": [],
   "source": [
    "# Твиттер - бака - не дает парсить."
   ]
  }
 ],
 "metadata": {
  "kernelspec": {
   "display_name": "Python 3.9.12 ('base')",
   "language": "python",
   "name": "python3"
  },
  "language_info": {
   "codemirror_mode": {
    "name": "ipython",
    "version": 3
   },
   "file_extension": ".py",
   "mimetype": "text/x-python",
   "name": "python",
   "nbconvert_exporter": "python",
   "pygments_lexer": "ipython3",
   "version": "3.9.12"
  },
  "orig_nbformat": 4,
  "vscode": {
   "interpreter": {
    "hash": "ad2bdc8ecc057115af97d19610ffacc2b4e99fae6737bb82f5d7fb13d2f2c186"
   }
  }
 },
 "nbformat": 4,
 "nbformat_minor": 2
}

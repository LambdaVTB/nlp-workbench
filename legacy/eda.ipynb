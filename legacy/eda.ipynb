{
 "cells": [
  {
   "cell_type": "code",
   "execution_count": 36,
   "metadata": {},
   "outputs": [],
   "source": [
    "# deps\n",
    "# %pip install pandarallel\n",
    "# %pip install corus"
   ]
  },
  {
   "cell_type": "code",
   "execution_count": 37,
   "metadata": {},
   "outputs": [
    {
     "name": "stdout",
     "output_type": "stream",
     "text": [
      "INFO: Pandarallel will run on 10 workers.\n",
      "INFO: Pandarallel will use standard multiprocessing data transfer (pipe) to transfer data between the main process and workers.\n",
      "\n",
      "WARNING: You are on Windows. If you detect any issue with pandarallel, be sure you checked out the Troubleshooting page:\n",
      "https://nalepae.github.io/pandarallel/troubleshooting/\n"
     ]
    }
   ],
   "source": [
    "import pandas as pd\n",
    "from pandarallel import pandarallel\n",
    "pandarallel.initialize(progress_bar=True)\n",
    "\n",
    "import numpy as np\n",
    "import matplotlib.pyplot as plt\n",
    "import seaborn as sns\n",
    "from tqdm import tqdm\n",
    "\n",
    "from corus import load_lenta2\n"
   ]
  },
  {
   "cell_type": "code",
   "execution_count": 44,
   "metadata": {},
   "outputs": [
    {
     "ename": "TypeError",
     "evalue": "load_lenta2() takes 1 positional argument but 2 were given",
     "output_type": "error",
     "traceback": [
      "\u001b[1;31m---------------------------------------------------------------------------\u001b[0m",
      "\u001b[1;31mTypeError\u001b[0m                                 Traceback (most recent call last)",
      "\u001b[1;32ms:\\Workspace\\MORETECH\\eda.ipynb Cell 3\u001b[0m in \u001b[0;36m<cell line: 14>\u001b[1;34m()\u001b[0m\n\u001b[0;32m     <a href='vscode-notebook-cell:/s%3A/Workspace/MORETECH/eda.ipynb#X25sZmlsZQ%3D%3D?line=10'>11</a>\u001b[0m     df[\u001b[39m'\u001b[39m\u001b[39msource\u001b[39m\u001b[39m'\u001b[39m] \u001b[39m=\u001b[39m \u001b[39m'\u001b[39m\u001b[39mlenta\u001b[39m\u001b[39m'\u001b[39m\n\u001b[0;32m     <a href='vscode-notebook-cell:/s%3A/Workspace/MORETECH/eda.ipynb#X25sZmlsZQ%3D%3D?line=11'>12</a>\u001b[0m     \u001b[39mreturn\u001b[39;00m df\n\u001b[1;32m---> <a href='vscode-notebook-cell:/s%3A/Workspace/MORETECH/eda.ipynb#X25sZmlsZQ%3D%3D?line=13'>14</a>\u001b[0m df \u001b[39m=\u001b[39m load_records_lenta(path, \u001b[39m10000\u001b[39;49m)\n\u001b[0;32m     <a href='vscode-notebook-cell:/s%3A/Workspace/MORETECH/eda.ipynb#X25sZmlsZQ%3D%3D?line=14'>15</a>\u001b[0m df\u001b[39m.\u001b[39mhead()\n",
      "\u001b[1;32ms:\\Workspace\\MORETECH\\eda.ipynb Cell 3\u001b[0m in \u001b[0;36mload_records_lenta\u001b[1;34m(path, sample_count)\u001b[0m\n\u001b[0;32m      <a href='vscode-notebook-cell:/s%3A/Workspace/MORETECH/eda.ipynb#X25sZmlsZQ%3D%3D?line=2'>3</a>\u001b[0m \u001b[39mdef\u001b[39;00m \u001b[39mload_records_lenta\u001b[39m(path: \u001b[39mstr\u001b[39m, sample_count: \u001b[39mint\u001b[39m) \u001b[39m-\u001b[39m\u001b[39m>\u001b[39m pd\u001b[39m.\u001b[39mDataFrame:\n\u001b[1;32m----> <a href='vscode-notebook-cell:/s%3A/Workspace/MORETECH/eda.ipynb#X25sZmlsZQ%3D%3D?line=3'>4</a>\u001b[0m     records \u001b[39m=\u001b[39m load_lenta2(path, sample_count)\n\u001b[0;32m      <a href='vscode-notebook-cell:/s%3A/Workspace/MORETECH/eda.ipynb#X25sZmlsZQ%3D%3D?line=4'>5</a>\u001b[0m     df \u001b[39m=\u001b[39m pd\u001b[39m.\u001b[39mDataFrame(columns\u001b[39m=\u001b[39m[\u001b[39m'\u001b[39m\u001b[39mtitle\u001b[39m\u001b[39m'\u001b[39m, \u001b[39m'\u001b[39m\u001b[39mtext\u001b[39m\u001b[39m'\u001b[39m, \u001b[39m'\u001b[39m\u001b[39murl\u001b[39m\u001b[39m'\u001b[39m, \u001b[39m'\u001b[39m\u001b[39mtopic\u001b[39m\u001b[39m'\u001b[39m, \u001b[39m'\u001b[39m\u001b[39mtags\u001b[39m\u001b[39m'\u001b[39m, \u001b[39m'\u001b[39m\u001b[39mdate\u001b[39m\u001b[39m'\u001b[39m])\n\u001b[0;32m      <a href='vscode-notebook-cell:/s%3A/Workspace/MORETECH/eda.ipynb#X25sZmlsZQ%3D%3D?line=5'>6</a>\u001b[0m     sample_count \u001b[39m=\u001b[39m \u001b[39m10000\u001b[39m\n",
      "\u001b[1;31mTypeError\u001b[0m: load_lenta2() takes 1 positional argument but 2 were given"
     ]
    }
   ],
   "source": [
    "# Read csv file\n",
    "path = 'S:\\Workspace\\MORETECH\\lenta-ru-news.csv.bz2'\n",
    "def load_records_lenta(path: str, sample_count: int) -> pd.DataFrame:\n",
    "    records = load_lenta2(path)\n",
    "    df = pd.DataFrame(columns=['title', 'text', 'url', 'topic', 'tags', 'date'])\n",
    "    sample_count = 10000\n",
    "    for i, record in tqdm(enumerate(records), total=sample_count):\n",
    "        df.loc[i] = [record.title, record.text, record.url, record.topic, record.tags, record.date]\n",
    "        if i > sample_count:\n",
    "            break\n",
    "    df['source'] = 'lenta'\n",
    "    return df\n",
    "\n",
    "df = load_records_lenta(path, 10000)\n",
    "df.head()"
   ]
  },
  {
   "cell_type": "code",
   "execution_count": 39,
   "metadata": {},
   "outputs": [
    {
     "data": {
      "text/html": [
       "<div>\n",
       "<style scoped>\n",
       "    .dataframe tbody tr th:only-of-type {\n",
       "        vertical-align: middle;\n",
       "    }\n",
       "\n",
       "    .dataframe tbody tr th {\n",
       "        vertical-align: top;\n",
       "    }\n",
       "\n",
       "    .dataframe thead th {\n",
       "        text-align: right;\n",
       "    }\n",
       "</style>\n",
       "<table border=\"1\" class=\"dataframe\">\n",
       "  <thead>\n",
       "    <tr style=\"text-align: right;\">\n",
       "      <th></th>\n",
       "      <th>title</th>\n",
       "      <th>text</th>\n",
       "      <th>url</th>\n",
       "      <th>topic</th>\n",
       "      <th>tags</th>\n",
       "      <th>date</th>\n",
       "      <th>source</th>\n",
       "    </tr>\n",
       "  </thead>\n",
       "  <tbody>\n",
       "    <tr>\n",
       "      <th>9997</th>\n",
       "      <td>В Москву съедутся клоуны со всего мира</td>\n",
       "      <td>В Москве 20 июля открывается фестиваль \"Планет...</td>\n",
       "      <td>https://lenta.ru/news/2000/07/10/clowns/</td>\n",
       "      <td>Россия</td>\n",
       "      <td>Все</td>\n",
       "      <td>2000-07-10</td>\n",
       "      <td>lenta</td>\n",
       "    </tr>\n",
       "    <tr>\n",
       "      <th>9998</th>\n",
       "      <td>Старшая Уильямс выигрывает чемпионский титул</td>\n",
       "      <td>Чисто американским получился финал Уимблдонск...</td>\n",
       "      <td>https://lenta.ru/news/2000/07/10/women/</td>\n",
       "      <td>Спорт</td>\n",
       "      <td>Все</td>\n",
       "      <td>2000-07-10</td>\n",
       "      <td>lenta</td>\n",
       "    </tr>\n",
       "    <tr>\n",
       "      <th>9999</th>\n",
       "      <td>\"Зенит\" выходит в третий раунд Кубка Интертото</td>\n",
       "      <td>Первым российским клубом, стартовавшим в сезон...</td>\n",
       "      <td>https://lenta.ru/news/2000/07/10/zenit/</td>\n",
       "      <td>Спорт</td>\n",
       "      <td>Все</td>\n",
       "      <td>2000-07-10</td>\n",
       "      <td>lenta</td>\n",
       "    </tr>\n",
       "    <tr>\n",
       "      <th>10000</th>\n",
       "      <td>Вагоны московского метро будут складываться га...</td>\n",
       "      <td>В московском метро уже в будущем году появится...</td>\n",
       "      <td>https://lenta.ru/news/2000/07/10/metro/</td>\n",
       "      <td>Россия</td>\n",
       "      <td>Все</td>\n",
       "      <td>2000-07-10</td>\n",
       "      <td>lenta</td>\n",
       "    </tr>\n",
       "    <tr>\n",
       "      <th>10001</th>\n",
       "      <td>В Чечню пытались проникнуть наемники из Пакистана</td>\n",
       "      <td>Минувшей ночью на российско-киргизской границе...</td>\n",
       "      <td>https://lenta.ru/news/2000/07/10/naemniki/</td>\n",
       "      <td>Россия</td>\n",
       "      <td>Все</td>\n",
       "      <td>2000-07-10</td>\n",
       "      <td>lenta</td>\n",
       "    </tr>\n",
       "  </tbody>\n",
       "</table>\n",
       "</div>"
      ],
      "text/plain": [
       "                                                   title  \\\n",
       "9997              В Москву съедутся клоуны со всего мира   \n",
       "9998        Старшая Уильямс выигрывает чемпионский титул   \n",
       "9999      \"Зенит\" выходит в третий раунд Кубка Интертото   \n",
       "10000  Вагоны московского метро будут складываться га...   \n",
       "10001  В Чечню пытались проникнуть наемники из Пакистана   \n",
       "\n",
       "                                                    text  \\\n",
       "9997   В Москве 20 июля открывается фестиваль \"Планет...   \n",
       "9998    Чисто американским получился финал Уимблдонск...   \n",
       "9999   Первым российским клубом, стартовавшим в сезон...   \n",
       "10000  В московском метро уже в будущем году появится...   \n",
       "10001  Минувшей ночью на российско-киргизской границе...   \n",
       "\n",
       "                                              url   topic tags       date  \\\n",
       "9997     https://lenta.ru/news/2000/07/10/clowns/  Россия  Все 2000-07-10   \n",
       "9998      https://lenta.ru/news/2000/07/10/women/   Спорт  Все 2000-07-10   \n",
       "9999      https://lenta.ru/news/2000/07/10/zenit/   Спорт  Все 2000-07-10   \n",
       "10000     https://lenta.ru/news/2000/07/10/metro/  Россия  Все 2000-07-10   \n",
       "10001  https://lenta.ru/news/2000/07/10/naemniki/  Россия  Все 2000-07-10   \n",
       "\n",
       "      source  \n",
       "9997   lenta  \n",
       "9998   lenta  \n",
       "9999   lenta  \n",
       "10000  lenta  \n",
       "10001  lenta  "
      ]
     },
     "execution_count": 39,
     "metadata": {},
     "output_type": "execute_result"
    }
   ],
   "source": [
    "df_tail = df.tail(1000)\n",
    "df_tail.tail()"
   ]
  },
  {
   "cell_type": "code",
   "execution_count": 40,
   "metadata": {},
   "outputs": [],
   "source": [
    "df_tail.to_csv('S:\\Workspace\\MORETECH\\lenta-news-sample-1000.csv', index=False)"
   ]
  },
  {
   "cell_type": "code",
   "execution_count": 41,
   "metadata": {},
   "outputs": [],
   "source": [
    "# # load data with pyarrow from csv\n",
    "# # load data from the end of the file\n",
    "\n",
    "# csv_df = pd.read_csv(path, nrows=10000, skiprows=range(1, 10000000))\n",
    "# csv_df.head()"
   ]
  },
  {
   "cell_type": "code",
   "execution_count": 42,
   "metadata": {},
   "outputs": [],
   "source": [
    "# Add column \"source\" with value \"lenta\"\n"
   ]
  },
  {
   "cell_type": "code",
   "execution_count": 43,
   "metadata": {},
   "outputs": [],
   "source": [
    "# take last 1000 samples from df\n"
   ]
  }
 ],
 "metadata": {
  "kernelspec": {
   "display_name": "Python 3 (ipykernel)",
   "language": "python",
   "name": "python3"
  },
  "language_info": {
   "codemirror_mode": {
    "name": "ipython",
    "version": 3
   },
   "file_extension": ".py",
   "mimetype": "text/x-python",
   "name": "python",
   "nbconvert_exporter": "python",
   "pygments_lexer": "ipython3",
   "version": "3.9.12"
  },
  "orig_nbformat": 4
 },
 "nbformat": 4,
 "nbformat_minor": 2
}
